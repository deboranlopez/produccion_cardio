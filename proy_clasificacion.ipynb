{
  "cells": [
    {
      "cell_type": "code",
      "execution_count": null,
      "metadata": {
        "colab": {
          "base_uri": "https://localhost:8080/"
        },
        "id": "6foyMhIDNGiC",
        "outputId": "85c6205e-e35b-4913-95cc-901a6608d480"
      },
      "outputs": [
        {
          "output_type": "stream",
          "name": "stdout",
          "text": [
            "Looking in indexes: https://pypi.org/simple, https://us-python.pkg.dev/colab-wheels/public/simple/\n",
            "Collecting scikit-plot\n",
            "  Downloading scikit_plot-0.3.7-py3-none-any.whl (33 kB)\n",
            "Requirement already satisfied: scipy>=0.9 in /usr/local/lib/python3.8/dist-packages (from scikit-plot) (1.7.3)\n",
            "Requirement already satisfied: matplotlib>=1.4.0 in /usr/local/lib/python3.8/dist-packages (from scikit-plot) (3.2.2)\n",
            "Requirement already satisfied: scikit-learn>=0.18 in /usr/local/lib/python3.8/dist-packages (from scikit-plot) (1.0.2)\n",
            "Requirement already satisfied: joblib>=0.10 in /usr/local/lib/python3.8/dist-packages (from scikit-plot) (1.2.0)\n",
            "Requirement already satisfied: kiwisolver>=1.0.1 in /usr/local/lib/python3.8/dist-packages (from matplotlib>=1.4.0->scikit-plot) (1.4.4)\n",
            "Requirement already satisfied: python-dateutil>=2.1 in /usr/local/lib/python3.8/dist-packages (from matplotlib>=1.4.0->scikit-plot) (2.8.2)\n",
            "Requirement already satisfied: cycler>=0.10 in /usr/local/lib/python3.8/dist-packages (from matplotlib>=1.4.0->scikit-plot) (0.11.0)\n",
            "Requirement already satisfied: pyparsing!=2.0.4,!=2.1.2,!=2.1.6,>=2.0.1 in /usr/local/lib/python3.8/dist-packages (from matplotlib>=1.4.0->scikit-plot) (3.0.9)\n",
            "Requirement already satisfied: numpy>=1.11 in /usr/local/lib/python3.8/dist-packages (from matplotlib>=1.4.0->scikit-plot) (1.21.6)\n",
            "Requirement already satisfied: threadpoolctl>=2.0.0 in /usr/local/lib/python3.8/dist-packages (from scikit-learn>=0.18->scikit-plot) (3.1.0)\n",
            "Requirement already satisfied: six>=1.5 in /usr/local/lib/python3.8/dist-packages (from python-dateutil>=2.1->matplotlib>=1.4.0->scikit-plot) (1.15.0)\n",
            "Installing collected packages: scikit-plot\n",
            "Successfully installed scikit-plot-0.3.7\n"
          ]
        }
      ],
      "source": [
        "pip install scikit-plot"
      ],
      "id": "6foyMhIDNGiC"
    },
    {
      "cell_type": "code",
      "execution_count": 99,
      "metadata": {
        "id": "44b9c8ab"
      },
      "outputs": [],
      "source": [
        "import pandas as pd\n",
        "import numpy as np\n",
        "import matplotlib.pyplot as plt\n",
        "import re\n",
        "\n",
        "\n",
        "import seaborn as sns\n",
        "\n",
        "from sklearn.model_selection import train_test_split\n",
        "from sklearn.preprocessing import OneHotEncoder, OrdinalEncoder\n",
        "from sklearn.preprocessing import StandardScaler, MinMaxScaler, RobustScaler\n",
        "from sklearn.naive_bayes import GaussianNB\n",
        "from sklearn.metrics import accuracy_score, recall_score, precision_score, f1_score\n",
        "from sklearn.metrics import confusion_matrix, classification_report\n",
        "import scikitplot.estimators\n",
        "from sklearn.metrics import roc_auc_score\n",
        "from sklearn.metrics import roc_curve, auc\n",
        "from sklearn.linear_model import LogisticRegression\n",
        "from sklearn.model_selection import StratifiedKFold, GridSearchCV, RandomizedSearchCV, RepeatedKFold\n",
        "from sklearn.neighbors import KNeighborsClassifier\n",
        "from sklearn.preprocessing import binarize\n",
        "from xgboost.sklearn import XGBClassifier\n",
        "from imblearn.under_sampling import RandomUnderSampler\n",
        "from sklearn import tree\n",
        "import lightgbm as lgb\n",
        "from datetime import date\n",
        "\n",
        "%matplotlib inline\n",
        "\n",
        "from sklearn import linear_model\n",
        "from sklearn import metrics\n",
        "\n",
        "import statsmodels.api as sm\n",
        "from statsmodels.tools import eval_measures\n",
        "from sklearn.ensemble import RandomForestClassifier, RandomForestRegressor\n",
        "from sklearn.tree import DecisionTreeClassifier\n",
        "\n",
        "import sklearn.metrics as metrics\n",
        "from sklearn.model_selection import learning_curve\n",
        "\n",
        "from sklearn.linear_model import LogisticRegression\n",
        "from sklearn.model_selection import cross_val_score, RepeatedStratifiedKFold, StratifiedKFold, KFold\n",
        "from sklearn.metrics import accuracy_score, confusion_matrix,roc_curve, roc_auc_score, precision_score, recall_score, precision_recall_curve\n",
        "from sklearn.metrics import f1_score"
      ],
      "id": "44b9c8ab"
    },
    {
      "cell_type": "code",
      "execution_count": 100,
      "metadata": {
        "id": "f963725b"
      },
      "outputs": [],
      "source": [
        "data = pd.read_csv(\"cardio_train.csv\", sep=';')"
      ],
      "id": "f963725b"
    },
    {
      "cell_type": "code",
      "source": [],
      "metadata": {
        "id": "JX4tt3jKvXHh"
      },
      "id": "JX4tt3jKvXHh",
      "execution_count": 100,
      "outputs": []
    },
    {
      "cell_type": "code",
      "execution_count": 101,
      "metadata": {
        "colab": {
          "base_uri": "https://localhost:8080/",
          "height": 424
        },
        "id": "0256bd5c",
        "outputId": "2484fa0c-48eb-40c2-fc9e-eaf631f6209a"
      },
      "outputs": [
        {
          "output_type": "execute_result",
          "data": {
            "text/plain": [
              "          id    age  gender  height  weight  ap_hi  ap_lo  cholesterol  gluc  \\\n",
              "0          0  18393       2     168    62.0    110     80            1     1   \n",
              "1          1  20228       1     156    85.0    140     90            3     1   \n",
              "2          2  18857       1     165    64.0    130     70            3     1   \n",
              "3          3  17623       2     169    82.0    150    100            1     1   \n",
              "4          4  17474       1     156    56.0    100     60            1     1   \n",
              "...      ...    ...     ...     ...     ...    ...    ...          ...   ...   \n",
              "69995  99993  19240       2     168    76.0    120     80            1     1   \n",
              "69996  99995  22601       1     158   126.0    140     90            2     2   \n",
              "69997  99996  19066       2     183   105.0    180     90            3     1   \n",
              "69998  99998  22431       1     163    72.0    135     80            1     2   \n",
              "69999  99999  20540       1     170    72.0    120     80            2     1   \n",
              "\n",
              "       smoke  alco  active  cardio  \n",
              "0          0     0       1       0  \n",
              "1          0     0       1       1  \n",
              "2          0     0       0       1  \n",
              "3          0     0       1       1  \n",
              "4          0     0       0       0  \n",
              "...      ...   ...     ...     ...  \n",
              "69995      1     0       1       0  \n",
              "69996      0     0       1       1  \n",
              "69997      0     1       0       1  \n",
              "69998      0     0       0       1  \n",
              "69999      0     0       1       0  \n",
              "\n",
              "[70000 rows x 13 columns]"
            ],
            "text/html": [
              "\n",
              "  <div id=\"df-c6cfbc30-d3da-4109-8f1b-fbbda5c04775\">\n",
              "    <div class=\"colab-df-container\">\n",
              "      <div>\n",
              "<style scoped>\n",
              "    .dataframe tbody tr th:only-of-type {\n",
              "        vertical-align: middle;\n",
              "    }\n",
              "\n",
              "    .dataframe tbody tr th {\n",
              "        vertical-align: top;\n",
              "    }\n",
              "\n",
              "    .dataframe thead th {\n",
              "        text-align: right;\n",
              "    }\n",
              "</style>\n",
              "<table border=\"1\" class=\"dataframe\">\n",
              "  <thead>\n",
              "    <tr style=\"text-align: right;\">\n",
              "      <th></th>\n",
              "      <th>id</th>\n",
              "      <th>age</th>\n",
              "      <th>gender</th>\n",
              "      <th>height</th>\n",
              "      <th>weight</th>\n",
              "      <th>ap_hi</th>\n",
              "      <th>ap_lo</th>\n",
              "      <th>cholesterol</th>\n",
              "      <th>gluc</th>\n",
              "      <th>smoke</th>\n",
              "      <th>alco</th>\n",
              "      <th>active</th>\n",
              "      <th>cardio</th>\n",
              "    </tr>\n",
              "  </thead>\n",
              "  <tbody>\n",
              "    <tr>\n",
              "      <th>0</th>\n",
              "      <td>0</td>\n",
              "      <td>18393</td>\n",
              "      <td>2</td>\n",
              "      <td>168</td>\n",
              "      <td>62.0</td>\n",
              "      <td>110</td>\n",
              "      <td>80</td>\n",
              "      <td>1</td>\n",
              "      <td>1</td>\n",
              "      <td>0</td>\n",
              "      <td>0</td>\n",
              "      <td>1</td>\n",
              "      <td>0</td>\n",
              "    </tr>\n",
              "    <tr>\n",
              "      <th>1</th>\n",
              "      <td>1</td>\n",
              "      <td>20228</td>\n",
              "      <td>1</td>\n",
              "      <td>156</td>\n",
              "      <td>85.0</td>\n",
              "      <td>140</td>\n",
              "      <td>90</td>\n",
              "      <td>3</td>\n",
              "      <td>1</td>\n",
              "      <td>0</td>\n",
              "      <td>0</td>\n",
              "      <td>1</td>\n",
              "      <td>1</td>\n",
              "    </tr>\n",
              "    <tr>\n",
              "      <th>2</th>\n",
              "      <td>2</td>\n",
              "      <td>18857</td>\n",
              "      <td>1</td>\n",
              "      <td>165</td>\n",
              "      <td>64.0</td>\n",
              "      <td>130</td>\n",
              "      <td>70</td>\n",
              "      <td>3</td>\n",
              "      <td>1</td>\n",
              "      <td>0</td>\n",
              "      <td>0</td>\n",
              "      <td>0</td>\n",
              "      <td>1</td>\n",
              "    </tr>\n",
              "    <tr>\n",
              "      <th>3</th>\n",
              "      <td>3</td>\n",
              "      <td>17623</td>\n",
              "      <td>2</td>\n",
              "      <td>169</td>\n",
              "      <td>82.0</td>\n",
              "      <td>150</td>\n",
              "      <td>100</td>\n",
              "      <td>1</td>\n",
              "      <td>1</td>\n",
              "      <td>0</td>\n",
              "      <td>0</td>\n",
              "      <td>1</td>\n",
              "      <td>1</td>\n",
              "    </tr>\n",
              "    <tr>\n",
              "      <th>4</th>\n",
              "      <td>4</td>\n",
              "      <td>17474</td>\n",
              "      <td>1</td>\n",
              "      <td>156</td>\n",
              "      <td>56.0</td>\n",
              "      <td>100</td>\n",
              "      <td>60</td>\n",
              "      <td>1</td>\n",
              "      <td>1</td>\n",
              "      <td>0</td>\n",
              "      <td>0</td>\n",
              "      <td>0</td>\n",
              "      <td>0</td>\n",
              "    </tr>\n",
              "    <tr>\n",
              "      <th>...</th>\n",
              "      <td>...</td>\n",
              "      <td>...</td>\n",
              "      <td>...</td>\n",
              "      <td>...</td>\n",
              "      <td>...</td>\n",
              "      <td>...</td>\n",
              "      <td>...</td>\n",
              "      <td>...</td>\n",
              "      <td>...</td>\n",
              "      <td>...</td>\n",
              "      <td>...</td>\n",
              "      <td>...</td>\n",
              "      <td>...</td>\n",
              "    </tr>\n",
              "    <tr>\n",
              "      <th>69995</th>\n",
              "      <td>99993</td>\n",
              "      <td>19240</td>\n",
              "      <td>2</td>\n",
              "      <td>168</td>\n",
              "      <td>76.0</td>\n",
              "      <td>120</td>\n",
              "      <td>80</td>\n",
              "      <td>1</td>\n",
              "      <td>1</td>\n",
              "      <td>1</td>\n",
              "      <td>0</td>\n",
              "      <td>1</td>\n",
              "      <td>0</td>\n",
              "    </tr>\n",
              "    <tr>\n",
              "      <th>69996</th>\n",
              "      <td>99995</td>\n",
              "      <td>22601</td>\n",
              "      <td>1</td>\n",
              "      <td>158</td>\n",
              "      <td>126.0</td>\n",
              "      <td>140</td>\n",
              "      <td>90</td>\n",
              "      <td>2</td>\n",
              "      <td>2</td>\n",
              "      <td>0</td>\n",
              "      <td>0</td>\n",
              "      <td>1</td>\n",
              "      <td>1</td>\n",
              "    </tr>\n",
              "    <tr>\n",
              "      <th>69997</th>\n",
              "      <td>99996</td>\n",
              "      <td>19066</td>\n",
              "      <td>2</td>\n",
              "      <td>183</td>\n",
              "      <td>105.0</td>\n",
              "      <td>180</td>\n",
              "      <td>90</td>\n",
              "      <td>3</td>\n",
              "      <td>1</td>\n",
              "      <td>0</td>\n",
              "      <td>1</td>\n",
              "      <td>0</td>\n",
              "      <td>1</td>\n",
              "    </tr>\n",
              "    <tr>\n",
              "      <th>69998</th>\n",
              "      <td>99998</td>\n",
              "      <td>22431</td>\n",
              "      <td>1</td>\n",
              "      <td>163</td>\n",
              "      <td>72.0</td>\n",
              "      <td>135</td>\n",
              "      <td>80</td>\n",
              "      <td>1</td>\n",
              "      <td>2</td>\n",
              "      <td>0</td>\n",
              "      <td>0</td>\n",
              "      <td>0</td>\n",
              "      <td>1</td>\n",
              "    </tr>\n",
              "    <tr>\n",
              "      <th>69999</th>\n",
              "      <td>99999</td>\n",
              "      <td>20540</td>\n",
              "      <td>1</td>\n",
              "      <td>170</td>\n",
              "      <td>72.0</td>\n",
              "      <td>120</td>\n",
              "      <td>80</td>\n",
              "      <td>2</td>\n",
              "      <td>1</td>\n",
              "      <td>0</td>\n",
              "      <td>0</td>\n",
              "      <td>1</td>\n",
              "      <td>0</td>\n",
              "    </tr>\n",
              "  </tbody>\n",
              "</table>\n",
              "<p>70000 rows × 13 columns</p>\n",
              "</div>\n",
              "      <button class=\"colab-df-convert\" onclick=\"convertToInteractive('df-c6cfbc30-d3da-4109-8f1b-fbbda5c04775')\"\n",
              "              title=\"Convert this dataframe to an interactive table.\"\n",
              "              style=\"display:none;\">\n",
              "        \n",
              "  <svg xmlns=\"http://www.w3.org/2000/svg\" height=\"24px\"viewBox=\"0 0 24 24\"\n",
              "       width=\"24px\">\n",
              "    <path d=\"M0 0h24v24H0V0z\" fill=\"none\"/>\n",
              "    <path d=\"M18.56 5.44l.94 2.06.94-2.06 2.06-.94-2.06-.94-.94-2.06-.94 2.06-2.06.94zm-11 1L8.5 8.5l.94-2.06 2.06-.94-2.06-.94L8.5 2.5l-.94 2.06-2.06.94zm10 10l.94 2.06.94-2.06 2.06-.94-2.06-.94-.94-2.06-.94 2.06-2.06.94z\"/><path d=\"M17.41 7.96l-1.37-1.37c-.4-.4-.92-.59-1.43-.59-.52 0-1.04.2-1.43.59L10.3 9.45l-7.72 7.72c-.78.78-.78 2.05 0 2.83L4 21.41c.39.39.9.59 1.41.59.51 0 1.02-.2 1.41-.59l7.78-7.78 2.81-2.81c.8-.78.8-2.07 0-2.86zM5.41 20L4 18.59l7.72-7.72 1.47 1.35L5.41 20z\"/>\n",
              "  </svg>\n",
              "      </button>\n",
              "      \n",
              "  <style>\n",
              "    .colab-df-container {\n",
              "      display:flex;\n",
              "      flex-wrap:wrap;\n",
              "      gap: 12px;\n",
              "    }\n",
              "\n",
              "    .colab-df-convert {\n",
              "      background-color: #E8F0FE;\n",
              "      border: none;\n",
              "      border-radius: 50%;\n",
              "      cursor: pointer;\n",
              "      display: none;\n",
              "      fill: #1967D2;\n",
              "      height: 32px;\n",
              "      padding: 0 0 0 0;\n",
              "      width: 32px;\n",
              "    }\n",
              "\n",
              "    .colab-df-convert:hover {\n",
              "      background-color: #E2EBFA;\n",
              "      box-shadow: 0px 1px 2px rgba(60, 64, 67, 0.3), 0px 1px 3px 1px rgba(60, 64, 67, 0.15);\n",
              "      fill: #174EA6;\n",
              "    }\n",
              "\n",
              "    [theme=dark] .colab-df-convert {\n",
              "      background-color: #3B4455;\n",
              "      fill: #D2E3FC;\n",
              "    }\n",
              "\n",
              "    [theme=dark] .colab-df-convert:hover {\n",
              "      background-color: #434B5C;\n",
              "      box-shadow: 0px 1px 3px 1px rgba(0, 0, 0, 0.15);\n",
              "      filter: drop-shadow(0px 1px 2px rgba(0, 0, 0, 0.3));\n",
              "      fill: #FFFFFF;\n",
              "    }\n",
              "  </style>\n",
              "\n",
              "      <script>\n",
              "        const buttonEl =\n",
              "          document.querySelector('#df-c6cfbc30-d3da-4109-8f1b-fbbda5c04775 button.colab-df-convert');\n",
              "        buttonEl.style.display =\n",
              "          google.colab.kernel.accessAllowed ? 'block' : 'none';\n",
              "\n",
              "        async function convertToInteractive(key) {\n",
              "          const element = document.querySelector('#df-c6cfbc30-d3da-4109-8f1b-fbbda5c04775');\n",
              "          const dataTable =\n",
              "            await google.colab.kernel.invokeFunction('convertToInteractive',\n",
              "                                                     [key], {});\n",
              "          if (!dataTable) return;\n",
              "\n",
              "          const docLinkHtml = 'Like what you see? Visit the ' +\n",
              "            '<a target=\"_blank\" href=https://colab.research.google.com/notebooks/data_table.ipynb>data table notebook</a>'\n",
              "            + ' to learn more about interactive tables.';\n",
              "          element.innerHTML = '';\n",
              "          dataTable['output_type'] = 'display_data';\n",
              "          await google.colab.output.renderOutput(dataTable, element);\n",
              "          const docLink = document.createElement('div');\n",
              "          docLink.innerHTML = docLinkHtml;\n",
              "          element.appendChild(docLink);\n",
              "        }\n",
              "      </script>\n",
              "    </div>\n",
              "  </div>\n",
              "  "
            ]
          },
          "metadata": {},
          "execution_count": 101
        }
      ],
      "source": [
        "data"
      ],
      "id": "0256bd5c"
    },
    {
      "cell_type": "markdown",
      "metadata": {
        "id": "0M3A6LdkSnPz"
      },
      "source": [
        "## Modelo base de regresión Logistica, sin cambio de variables ni limpieza"
      ],
      "id": "0M3A6LdkSnPz"
    },
    {
      "cell_type": "code",
      "execution_count": 102,
      "metadata": {
        "colab": {
          "base_uri": "https://localhost:8080/",
          "height": 1000
        },
        "id": "4c46ff8a",
        "outputId": "4678a2b4-8d63-4e46-bbbe-5612d779dfbd"
      },
      "outputs": [
        {
          "output_type": "stream",
          "name": "stderr",
          "text": [
            "/usr/local/lib/python3.8/dist-packages/sklearn/model_selection/_validation.py:372: FitFailedWarning: \n",
            "25 fits failed out of a total of 50.\n",
            "The score on these train-test partitions for these parameters will be set to nan.\n",
            "If these failures are not expected, you can try to debug them by setting error_score='raise'.\n",
            "\n",
            "Below are more details about the failures:\n",
            "--------------------------------------------------------------------------------\n",
            "10 fits failed with the following error:\n",
            "Traceback (most recent call last):\n",
            "  File \"/usr/local/lib/python3.8/dist-packages/sklearn/model_selection/_validation.py\", line 680, in _fit_and_score\n",
            "    estimator.fit(X_train, y_train, **fit_params)\n",
            "  File \"/usr/local/lib/python3.8/dist-packages/sklearn/linear_model/_logistic.py\", line 1461, in fit\n",
            "    solver = _check_solver(self.solver, self.penalty, self.dual)\n",
            "  File \"/usr/local/lib/python3.8/dist-packages/sklearn/linear_model/_logistic.py\", line 457, in _check_solver\n",
            "    raise ValueError(\n",
            "ValueError: Only 'saga' solver supports elasticnet penalty, got solver=liblinear.\n",
            "\n",
            "--------------------------------------------------------------------------------\n",
            "5 fits failed with the following error:\n",
            "Traceback (most recent call last):\n",
            "  File \"/usr/local/lib/python3.8/dist-packages/sklearn/model_selection/_validation.py\", line 680, in _fit_and_score\n",
            "    estimator.fit(X_train, y_train, **fit_params)\n",
            "  File \"/usr/local/lib/python3.8/dist-packages/sklearn/linear_model/_logistic.py\", line 1471, in fit\n",
            "    raise ValueError(\n",
            "ValueError: l1_ratio must be between 0 and 1; got (l1_ratio=None)\n",
            "\n",
            "--------------------------------------------------------------------------------\n",
            "5 fits failed with the following error:\n",
            "Traceback (most recent call last):\n",
            "  File \"/usr/local/lib/python3.8/dist-packages/sklearn/model_selection/_validation.py\", line 680, in _fit_and_score\n",
            "    estimator.fit(X_train, y_train, **fit_params)\n",
            "  File \"/usr/local/lib/python3.8/dist-packages/sklearn/linear_model/_logistic.py\", line 1461, in fit\n",
            "    solver = _check_solver(self.solver, self.penalty, self.dual)\n",
            "  File \"/usr/local/lib/python3.8/dist-packages/sklearn/linear_model/_logistic.py\", line 447, in _check_solver\n",
            "    raise ValueError(\n",
            "ValueError: Solver newton-cg supports only 'l2' or 'none' penalties, got elasticnet penalty.\n",
            "\n",
            "--------------------------------------------------------------------------------\n",
            "5 fits failed with the following error:\n",
            "Traceback (most recent call last):\n",
            "  File \"/usr/local/lib/python3.8/dist-packages/sklearn/model_selection/_validation.py\", line 680, in _fit_and_score\n",
            "    estimator.fit(X_train, y_train, **fit_params)\n",
            "  File \"/usr/local/lib/python3.8/dist-packages/sklearn/linear_model/_logistic.py\", line 1461, in fit\n",
            "    solver = _check_solver(self.solver, self.penalty, self.dual)\n",
            "  File \"/usr/local/lib/python3.8/dist-packages/sklearn/linear_model/_logistic.py\", line 447, in _check_solver\n",
            "    raise ValueError(\n",
            "ValueError: Solver sag supports only 'l2' or 'none' penalties, got l1 penalty.\n",
            "\n",
            "  warnings.warn(some_fits_failed_message, FitFailedWarning)\n",
            "/usr/local/lib/python3.8/dist-packages/sklearn/model_selection/_search.py:969: UserWarning: One or more of the test scores are non-finite: [       nan        nan 0.68357853 0.67245456        nan 0.66507437\n",
            " 0.67006596        nan        nan 0.67281114]\n",
            "  warnings.warn(\n",
            "/usr/local/lib/python3.8/dist-packages/sklearn/linear_model/_sag.py:352: ConvergenceWarning: The max_iter was reached which means the coef_ did not converge\n",
            "  warnings.warn(\n"
          ]
        },
        {
          "output_type": "stream",
          "name": "stdout",
          "text": [
            "Accuracy en test = 0.6917142857142857\n",
            "Recall en test = 0.6687346703217429\n"
          ]
        },
        {
          "output_type": "display_data",
          "data": {
            "text/plain": [
              "<Figure size 432x288 with 2 Axes>"
            ],
            "image/png": "[encoded data removed]"
          },
          "metadata": {
            "needs_background": "light"
          }
        }
      ],
      "source": [
        "X = data.drop([\"cardio\", \"id\"], axis=1)\n",
        "y = data[\"cardio\"]\n",
        "\n",
        "X_train, X_test, y_train, y_test = train_test_split(X, y,test_size=0.2,random_state=0)\n",
        "\n",
        "logistic_regression = LogisticRegression()\n",
        "folds=StratifiedKFold(n_splits=5, random_state=12, shuffle=True)\n",
        "params_reg_log = {'C': [1, 10, 100, 1000],\n",
        "                    'penalty': ['l1', 'l2', 'elasticnet'],\n",
        "                     'solver': ['saga','newton-cg', 'lbfgs', 'liblinear', 'sag']}\n",
        "\n",
        "rs_reg_log = RandomizedSearchCV(estimator=logistic_regression, param_distributions=params_reg_log, scoring='recall', cv=folds, n_jobs=4, random_state=12)\n",
        "\n",
        "rs_reg_log.fit(X_train, y_train)\n",
        "\n",
        "y_pred_reg_log = rs_reg_log.predict(X_test)\n",
        "\n",
        "# Graficamos la matriz de confusión en train \n",
        "sns.heatmap(confusion_matrix(y_test, y_pred_reg_log), annot=True, fmt='.0f')\n",
        "plt.ylabel('Etiquetas reales')\n",
        "plt.xlabel('Etiquetas predichas');\n",
        "\n",
        "print('Accuracy en test =', accuracy_score(y_test, y_pred_reg_log))\n",
        "print('Recall en test =', recall_score(y_test, y_pred_reg_log))"
      ],
      "id": "4c46ff8a"
    },
    {
      "cell_type": "markdown",
      "metadata": {
        "id": "THy4JseUS4J6"
      },
      "source": [
        "# Descriptiva"
      ],
      "id": "THy4JseUS4J6"
    },
    {
      "cell_type": "raw",
      "metadata": {
        "id": "5369ba18"
      },
      "source": [
        "\n",
        "* Analisis de datos:\n",
        "- nulos: no hay\n",
        "- graficos\n",
        "- distribuciones\n",
        "- balance de clases:balanceadas\n",
        "\n",
        "* Transformar\n",
        "- si hay algun nulo\n",
        "- dias a años + nueva columna\n",
        "- crear indice de masa corporal (hacer modelos antes y despues para ver si influencia)"
      ],
      "id": "5369ba18"
    },
    {
      "cell_type": "code",
      "execution_count": 103,
      "metadata": {
        "colab": {
          "base_uri": "https://localhost:8080/"
        },
        "id": "82a451f6",
        "outputId": "efde9ad7-2c00-4fd4-f047-27f3165aab1a"
      },
      "outputs": [
        {
          "output_type": "execute_result",
          "data": {
            "text/plain": [
              "id             0\n",
              "age            0\n",
              "gender         0\n",
              "height         0\n",
              "weight         0\n",
              "ap_hi          0\n",
              "ap_lo          0\n",
              "cholesterol    0\n",
              "gluc           0\n",
              "smoke          0\n",
              "alco           0\n",
              "active         0\n",
              "cardio         0\n",
              "dtype: int64"
            ]
          },
          "metadata": {},
          "execution_count": 103
        }
      ],
      "source": [
        "data.isnull().sum()"
      ],
      "id": "82a451f6"
    },
    {
      "cell_type": "code",
      "execution_count": 104,
      "metadata": {
        "colab": {
          "base_uri": "https://localhost:8080/",
          "height": 369
        },
        "id": "f4f50892",
        "outputId": "7f3969b2-c940-40a8-9cc2-edb5c60532f0"
      },
      "outputs": [
        {
          "output_type": "display_data",
          "data": {
            "text/plain": [
              "<Figure size 720x360 with 1 Axes>"
            ],
            "image/png": "[encoded data removed]"
          },
          "metadata": {}
        }
      ],
      "source": [
        "with sns.axes_style('white'):\n",
        "    g = sns.catplot(x = \"gender\", data=data, aspect=2.0, kind='count')\n",
        "    g.set_ylabels('Total')"
      ],
      "id": "f4f50892"
    },
    {
      "cell_type": "code",
      "execution_count": 105,
      "metadata": {
        "colab": {
          "base_uri": "https://localhost:8080/",
          "height": 369
        },
        "id": "e03e9cfd",
        "outputId": "7ea7ce29-58fc-44a0-b121-2f062f7606de"
      },
      "outputs": [
        {
          "output_type": "display_data",
          "data": {
            "text/plain": [
              "<Figure size 720x360 with 1 Axes>"
            ],
            "image/png": "[encoded data removed]"
          },
          "metadata": {}
        }
      ],
      "source": [
        "with sns.axes_style('white'):\n",
        "    g = sns.catplot(x = \"cardio\", data=data, aspect=2.0, kind='count')\n",
        "    g.set_ylabels('Total')"
      ],
      "id": "e03e9cfd"
    },
    {
      "cell_type": "code",
      "execution_count": 106,
      "metadata": {
        "colab": {
          "base_uri": "https://localhost:8080/"
        },
        "id": "9ff2e319",
        "outputId": "121a45aa-3da9-4bfb-9185-594661964dbe"
      },
      "outputs": [
        {
          "output_type": "execute_result",
          "data": {
            "text/plain": [
              "cardio\n",
              "0    35021\n",
              "1    34979\n",
              "dtype: int64"
            ]
          },
          "metadata": {},
          "execution_count": 106
        }
      ],
      "source": [
        "data.value_counts(\"cardio\")\n",
        "\n",
        "#hay balance de clases"
      ],
      "id": "9ff2e319"
    },
    {
      "cell_type": "code",
      "execution_count": 107,
      "metadata": {
        "colab": {
          "base_uri": "https://localhost:8080/",
          "height": 369
        },
        "id": "1e275e14",
        "outputId": "b0477538-95a7-4870-cbe5-0943ae784e37"
      },
      "outputs": [
        {
          "output_type": "display_data",
          "data": {
            "text/plain": [
              "<Figure size 720x360 with 1 Axes>"
            ],
            "image/png": "[encoded data removed]"
          },
          "metadata": {}
        }
      ],
      "source": [
        "with sns.axes_style('white'):\n",
        "    g = sns.catplot(x = \"smoke\", data=data, aspect=2.0, kind='count')\n",
        "    g.set_ylabels('Total')"
      ],
      "id": "1e275e14"
    },
    {
      "cell_type": "code",
      "execution_count": 108,
      "metadata": {
        "colab": {
          "base_uri": "https://localhost:8080/",
          "height": 369
        },
        "id": "a1c7f878",
        "outputId": "b7cb5bdd-9ebc-4a51-a4c1-6a9609151477"
      },
      "outputs": [
        {
          "output_type": "display_data",
          "data": {
            "text/plain": [
              "<Figure size 720x360 with 1 Axes>"
            ],
            "image/png": "[encoded data removed]"
          },
          "metadata": {}
        }
      ],
      "source": [
        "with sns.axes_style('white'):\n",
        "    g = sns.catplot(x = \"cholesterol\", data=data, aspect=2.0, kind='count')\n",
        "    g.set_ylabels('Total')"
      ],
      "id": "a1c7f878"
    },
    {
      "cell_type": "markdown",
      "metadata": {
        "id": "bMRkGPweS9kL"
      },
      "source": [
        "# Creacion de Variables"
      ],
      "id": "bMRkGPweS9kL"
    },
    {
      "cell_type": "code",
      "execution_count": 109,
      "metadata": {
        "id": "317ecf1c"
      },
      "outputs": [],
      "source": [
        "data[\"IMC\"] = round((data.weight)/((data.height)**2)*10000, 1)"
      ],
      "id": "317ecf1c"
    },
    {
      "cell_type": "code",
      "execution_count": 110,
      "metadata": {
        "id": "827c1023"
      },
      "outputs": [],
      "source": [
        "def clas_IMC (i):\n",
        "    if i < 18.5:\n",
        "        return \"Bajo peso\"\n",
        "    elif (i >= 18.5 and i < 30):\n",
        "        return \"Normal\"\n",
        "    elif (i >= 30 and i < 35):\n",
        "        return \"Obesidad Moderada\"\n",
        "    elif (i >= 35 and i < 40):\n",
        "        return \"Obesidad Severa\"\n",
        "    else:\n",
        "        return \"Obesidad Morbida\""
      ],
      "id": "827c1023"
    },
    {
      "cell_type": "code",
      "execution_count": 111,
      "metadata": {
        "id": "b875608f"
      },
      "outputs": [],
      "source": [
        "data[\"clas_IMC\"] = data.IMC.apply(clas_IMC)"
      ],
      "id": "b875608f"
    },
    {
      "cell_type": "code",
      "execution_count": 112,
      "metadata": {
        "colab": {
          "base_uri": "https://localhost:8080/",
          "height": 424
        },
        "id": "5000528a",
        "outputId": "1502ccbe-cc3a-44ac-df1c-a9e23ba5ff1d"
      },
      "outputs": [
        {
          "output_type": "execute_result",
          "data": {
            "text/plain": [
              "          id    age  gender  height  weight  ap_hi  ap_lo  cholesterol  gluc  \\\n",
              "0          0  18393       2     168    62.0    110     80            1     1   \n",
              "1          1  20228       1     156    85.0    140     90            3     1   \n",
              "2          2  18857       1     165    64.0    130     70            3     1   \n",
              "3          3  17623       2     169    82.0    150    100            1     1   \n",
              "4          4  17474       1     156    56.0    100     60            1     1   \n",
              "...      ...    ...     ...     ...     ...    ...    ...          ...   ...   \n",
              "69995  99993  19240       2     168    76.0    120     80            1     1   \n",
              "69996  99995  22601       1     158   126.0    140     90            2     2   \n",
              "69997  99996  19066       2     183   105.0    180     90            3     1   \n",
              "69998  99998  22431       1     163    72.0    135     80            1     2   \n",
              "69999  99999  20540       1     170    72.0    120     80            2     1   \n",
              "\n",
              "       smoke  alco  active  cardio   IMC           clas_IMC  \n",
              "0          0     0       1       0  22.0             Normal  \n",
              "1          0     0       1       1  34.9  Obesidad Moderada  \n",
              "2          0     0       0       1  23.5             Normal  \n",
              "3          0     0       1       1  28.7             Normal  \n",
              "4          0     0       0       0  23.0             Normal  \n",
              "...      ...   ...     ...     ...   ...                ...  \n",
              "69995      1     0       1       0  26.9             Normal  \n",
              "69996      0     0       1       1  50.5   Obesidad Morbida  \n",
              "69997      0     1       0       1  31.4  Obesidad Moderada  \n",
              "69998      0     0       0       1  27.1             Normal  \n",
              "69999      0     0       1       0  24.9             Normal  \n",
              "\n",
              "[70000 rows x 15 columns]"
            ],
            "text/html": [
              "\n",
              "  <div id=\"df-c7550242-e148-419a-b7b3-c6cc3ef91e43\">\n",
              "    <div class=\"colab-df-container\">\n",
              "      <div>\n",
              "<style scoped>\n",
              "    .dataframe tbody tr th:only-of-type {\n",
              "        vertical-align: middle;\n",
              "    }\n",
              "\n",
              "    .dataframe tbody tr th {\n",
              "        vertical-align: top;\n",
              "    }\n",
              "\n",
              "    .dataframe thead th {\n",
              "        text-align: right;\n",
              "    }\n",
              "</style>\n",
              "<table border=\"1\" class=\"dataframe\">\n",
              "  <thead>\n",
              "    <tr style=\"text-align: right;\">\n",
              "      <th></th>\n",
              "      <th>id</th>\n",
              "      <th>age</th>\n",
              "      <th>gender</th>\n",
              "      <th>height</th>\n",
              "      <th>weight</th>\n",
              "      <th>ap_hi</th>\n",
              "      <th>ap_lo</th>\n",
              "      <th>cholesterol</th>\n",
              "      <th>gluc</th>\n",
              "      <th>smoke</th>\n",
              "      <th>alco</th>\n",
              "      <th>active</th>\n",
              "      <th>cardio</th>\n",
              "      <th>IMC</th>\n",
              "      <th>clas_IMC</th>\n",
              "    </tr>\n",
              "  </thead>\n",
              "  <tbody>\n",
              "    <tr>\n",
              "      <th>0</th>\n",
              "      <td>0</td>\n",
              "      <td>18393</td>\n",
              "      <td>2</td>\n",
              "      <td>168</td>\n",
              "      <td>62.0</td>\n",
              "      <td>110</td>\n",
              "      <td>80</td>\n",
              "      <td>1</td>\n",
              "      <td>1</td>\n",
              "      <td>0</td>\n",
              "      <td>0</td>\n",
              "      <td>1</td>\n",
              "      <td>0</td>\n",
              "      <td>22.0</td>\n",
              "      <td>Normal</td>\n",
              "    </tr>\n",
              "    <tr>\n",
              "      <th>1</th>\n",
              "      <td>1</td>\n",
              "      <td>20228</td>\n",
              "      <td>1</td>\n",
              "      <td>156</td>\n",
              "      <td>85.0</td>\n",
              "      <td>140</td>\n",
              "      <td>90</td>\n",
              "      <td>3</td>\n",
              "      <td>1</td>\n",
              "      <td>0</td>\n",
              "      <td>0</td>\n",
              "      <td>1</td>\n",
              "      <td>1</td>\n",
              "      <td>34.9</td>\n",
              "      <td>Obesidad Moderada</td>\n",
              "    </tr>\n",
              "    <tr>\n",
              "      <th>2</th>\n",
              "      <td>2</td>\n",
              "      <td>18857</td>\n",
              "      <td>1</td>\n",
              "      <td>165</td>\n",
              "      <td>64.0</td>\n",
              "      <td>130</td>\n",
              "      <td>70</td>\n",
              "      <td>3</td>\n",
              "      <td>1</td>\n",
              "      <td>0</td>\n",
              "      <td>0</td>\n",
              "      <td>0</td>\n",
              "      <td>1</td>\n",
              "      <td>23.5</td>\n",
              "      <td>Normal</td>\n",
              "    </tr>\n",
              "    <tr>\n",
              "      <th>3</th>\n",
              "      <td>3</td>\n",
              "      <td>17623</td>\n",
              "      <td>2</td>\n",
              "      <td>169</td>\n",
              "      <td>82.0</td>\n",
              "      <td>150</td>\n",
              "      <td>100</td>\n",
              "      <td>1</td>\n",
              "      <td>1</td>\n",
              "      <td>0</td>\n",
              "      <td>0</td>\n",
              "      <td>1</td>\n",
              "      <td>1</td>\n",
              "      <td>28.7</td>\n",
              "      <td>Normal</td>\n",
              "    </tr>\n",
              "    <tr>\n",
              "      <th>4</th>\n",
              "      <td>4</td>\n",
              "      <td>17474</td>\n",
              "      <td>1</td>\n",
              "      <td>156</td>\n",
              "      <td>56.0</td>\n",
              "      <td>100</td>\n",
              "      <td>60</td>\n",
              "      <td>1</td>\n",
              "      <td>1</td>\n",
              "      <td>0</td>\n",
              "      <td>0</td>\n",
              "      <td>0</td>\n",
              "      <td>0</td>\n",
              "      <td>23.0</td>\n",
              "      <td>Normal</td>\n",
              "    </tr>\n",
              "    <tr>\n",
              "      <th>...</th>\n",
              "      <td>...</td>\n",
              "      <td>...</td>\n",
              "      <td>...</td>\n",
              "      <td>...</td>\n",
              "      <td>...</td>\n",
              "      <td>...</td>\n",
              "      <td>...</td>\n",
              "      <td>...</td>\n",
              "      <td>...</td>\n",
              "      <td>...</td>\n",
              "      <td>...</td>\n",
              "      <td>...</td>\n",
              "      <td>...</td>\n",
              "      <td>...</td>\n",
              "      <td>...</td>\n",
              "    </tr>\n",
              "    <tr>\n",
              "      <th>69995</th>\n",
              "      <td>99993</td>\n",
              "      <td>19240</td>\n",
              "      <td>2</td>\n",
              "      <td>168</td>\n",
              "      <td>76.0</td>\n",
              "      <td>120</td>\n",
              "      <td>80</td>\n",
              "      <td>1</td>\n",
              "      <td>1</td>\n",
              "      <td>1</td>\n",
              "      <td>0</td>\n",
              "      <td>1</td>\n",
              "      <td>0</td>\n",
              "      <td>26.9</td>\n",
              "      <td>Normal</td>\n",
              "    </tr>\n",
              "    <tr>\n",
              "      <th>69996</th>\n",
              "      <td>99995</td>\n",
              "      <td>22601</td>\n",
              "      <td>1</td>\n",
              "      <td>158</td>\n",
              "      <td>126.0</td>\n",
              "      <td>140</td>\n",
              "      <td>90</td>\n",
              "      <td>2</td>\n",
              "      <td>2</td>\n",
              "      <td>0</td>\n",
              "      <td>0</td>\n",
              "      <td>1</td>\n",
              "      <td>1</td>\n",
              "      <td>50.5</td>\n",
              "      <td>Obesidad Morbida</td>\n",
              "    </tr>\n",
              "    <tr>\n",
              "      <th>69997</th>\n",
              "      <td>99996</td>\n",
              "      <td>19066</td>\n",
              "      <td>2</td>\n",
              "      <td>183</td>\n",
              "      <td>105.0</td>\n",
              "      <td>180</td>\n",
              "      <td>90</td>\n",
              "      <td>3</td>\n",
              "      <td>1</td>\n",
              "      <td>0</td>\n",
              "      <td>1</td>\n",
              "      <td>0</td>\n",
              "      <td>1</td>\n",
              "      <td>31.4</td>\n",
              "      <td>Obesidad Moderada</td>\n",
              "    </tr>\n",
              "    <tr>\n",
              "      <th>69998</th>\n",
              "      <td>99998</td>\n",
              "      <td>22431</td>\n",
              "      <td>1</td>\n",
              "      <td>163</td>\n",
              "      <td>72.0</td>\n",
              "      <td>135</td>\n",
              "      <td>80</td>\n",
              "      <td>1</td>\n",
              "      <td>2</td>\n",
              "      <td>0</td>\n",
              "      <td>0</td>\n",
              "      <td>0</td>\n",
              "      <td>1</td>\n",
              "      <td>27.1</td>\n",
              "      <td>Normal</td>\n",
              "    </tr>\n",
              "    <tr>\n",
              "      <th>69999</th>\n",
              "      <td>99999</td>\n",
              "      <td>20540</td>\n",
              "      <td>1</td>\n",
              "      <td>170</td>\n",
              "      <td>72.0</td>\n",
              "      <td>120</td>\n",
              "      <td>80</td>\n",
              "      <td>2</td>\n",
              "      <td>1</td>\n",
              "      <td>0</td>\n",
              "      <td>0</td>\n",
              "      <td>1</td>\n",
              "      <td>0</td>\n",
              "      <td>24.9</td>\n",
              "      <td>Normal</td>\n",
              "    </tr>\n",
              "  </tbody>\n",
              "</table>\n",
              "<p>70000 rows × 15 columns</p>\n",
              "</div>\n",
              "      <button class=\"colab-df-convert\" onclick=\"convertToInteractive('df-c7550242-e148-419a-b7b3-c6cc3ef91e43')\"\n",
              "              title=\"Convert this dataframe to an interactive table.\"\n",
              "              style=\"display:none;\">\n",
              "        \n",
              "  <svg xmlns=\"http://www.w3.org/2000/svg\" height=\"24px\"viewBox=\"0 0 24 24\"\n",
              "       width=\"24px\">\n",
              "    <path d=\"M0 0h24v24H0V0z\" fill=\"none\"/>\n",
              "    <path d=\"M18.56 5.44l.94 2.06.94-2.06 2.06-.94-2.06-.94-.94-2.06-.94 2.06-2.06.94zm-11 1L8.5 8.5l.94-2.06 2.06-.94-2.06-.94L8.5 2.5l-.94 2.06-2.06.94zm10 10l.94 2.06.94-2.06 2.06-.94-2.06-.94-.94-2.06-.94 2.06-2.06.94z\"/><path d=\"M17.41 7.96l-1.37-1.37c-.4-.4-.92-.59-1.43-.59-.52 0-1.04.2-1.43.59L10.3 9.45l-7.72 7.72c-.78.78-.78 2.05 0 2.83L4 21.41c.39.39.9.59 1.41.59.51 0 1.02-.2 1.41-.59l7.78-7.78 2.81-2.81c.8-.78.8-2.07 0-2.86zM5.41 20L4 18.59l7.72-7.72 1.47 1.35L5.41 20z\"/>\n",
              "  </svg>\n",
              "      </button>\n",
              "      \n",
              "  <style>\n",
              "    .colab-df-container {\n",
              "      display:flex;\n",
              "      flex-wrap:wrap;\n",
              "      gap: 12px;\n",
              "    }\n",
              "\n",
              "    .colab-df-convert {\n",
              "      background-color: #E8F0FE;\n",
              "      border: none;\n",
              "      border-radius: 50%;\n",
              "      cursor: pointer;\n",
              "      display: none;\n",
              "      fill: #1967D2;\n",
              "      height: 32px;\n",
              "      padding: 0 0 0 0;\n",
              "      width: 32px;\n",
              "    }\n",
              "\n",
              "    .colab-df-convert:hover {\n",
              "      background-color: #E2EBFA;\n",
              "      box-shadow: 0px 1px 2px rgba(60, 64, 67, 0.3), 0px 1px 3px 1px rgba(60, 64, 67, 0.15);\n",
              "      fill: #174EA6;\n",
              "    }\n",
              "\n",
              "    [theme=dark] .colab-df-convert {\n",
              "      background-color: #3B4455;\n",
              "      fill: #D2E3FC;\n",
              "    }\n",
              "\n",
              "    [theme=dark] .colab-df-convert:hover {\n",
              "      background-color: #434B5C;\n",
              "      box-shadow: 0px 1px 3px 1px rgba(0, 0, 0, 0.15);\n",
              "      filter: drop-shadow(0px 1px 2px rgba(0, 0, 0, 0.3));\n",
              "      fill: #FFFFFF;\n",
              "    }\n",
              "  </style>\n",
              "\n",
              "      <script>\n",
              "        const buttonEl =\n",
              "          document.querySelector('#df-c7550242-e148-419a-b7b3-c6cc3ef91e43 button.colab-df-convert');\n",
              "        buttonEl.style.display =\n",
              "          google.colab.kernel.accessAllowed ? 'block' : 'none';\n",
              "\n",
              "        async function convertToInteractive(key) {\n",
              "          const element = document.querySelector('#df-c7550242-e148-419a-b7b3-c6cc3ef91e43');\n",
              "          const dataTable =\n",
              "            await google.colab.kernel.invokeFunction('convertToInteractive',\n",
              "                                                     [key], {});\n",
              "          if (!dataTable) return;\n",
              "\n",
              "          const docLinkHtml = 'Like what you see? Visit the ' +\n",
              "            '<a target=\"_blank\" href=https://colab.research.google.com/notebooks/data_table.ipynb>data table notebook</a>'\n",
              "            + ' to learn more about interactive tables.';\n",
              "          element.innerHTML = '';\n",
              "          dataTable['output_type'] = 'display_data';\n",
              "          await google.colab.output.renderOutput(dataTable, element);\n",
              "          const docLink = document.createElement('div');\n",
              "          docLink.innerHTML = docLinkHtml;\n",
              "          element.appendChild(docLink);\n",
              "        }\n",
              "      </script>\n",
              "    </div>\n",
              "  </div>\n",
              "  "
            ]
          },
          "metadata": {},
          "execution_count": 112
        }
      ],
      "source": [
        "data"
      ],
      "id": "5000528a"
    },
    {
      "cell_type": "code",
      "execution_count": 113,
      "metadata": {
        "id": "651aec6f"
      },
      "outputs": [],
      "source": [
        "def clas_nivel_IMC (i):\n",
        "    if i < 18.5:\n",
        "        return -1\n",
        "    elif (i >= 18.5 and i < 30):\n",
        "        return 0\n",
        "    elif (i >= 30 and i < 35):\n",
        "        return 1\n",
        "    elif (i >= 35 and i < 40):\n",
        "        return 2\n",
        "    else:\n",
        "        return 3"
      ],
      "id": "651aec6f"
    },
    {
      "cell_type": "code",
      "execution_count": 114,
      "metadata": {
        "id": "6fe2d1c2"
      },
      "outputs": [],
      "source": [
        "data[\"clas_nivel_IMC\"] = (data.IMC.apply(clas_nivel_IMC))"
      ],
      "id": "6fe2d1c2"
    },
    {
      "cell_type": "code",
      "execution_count": 115,
      "metadata": {
        "colab": {
          "base_uri": "https://localhost:8080/"
        },
        "id": "cf1fffd2",
        "outputId": "e0cc751b-b370-4bc1-e7ff-209ac7d2d277"
      },
      "outputs": [
        {
          "output_type": "execute_result",
          "data": {
            "text/plain": [
              "clas_IMC\n",
              "Normal               50762\n",
              "Obesidad Moderada    12302\n",
              "Obesidad Severa       4402\n",
              "Obesidad Morbida      1905\n",
              "Bajo peso              629\n",
              "dtype: int64"
            ]
          },
          "metadata": {},
          "execution_count": 115
        }
      ],
      "source": [
        "data.value_counts(\"clas_IMC\")"
      ],
      "id": "cf1fffd2"
    },
    {
      "cell_type": "code",
      "execution_count": 116,
      "metadata": {
        "colab": {
          "base_uri": "https://localhost:8080/"
        },
        "id": "02aff10e",
        "outputId": "2d821a97-2783-4949-ab1f-e87ea6b71759"
      },
      "outputs": [
        {
          "output_type": "execute_result",
          "data": {
            "text/plain": [
              "clas_nivel_IMC\n",
              " 0    50762\n",
              " 1    12302\n",
              " 2     4402\n",
              " 3     1905\n",
              "-1      629\n",
              "dtype: int64"
            ]
          },
          "metadata": {},
          "execution_count": 116
        }
      ],
      "source": [
        "data.value_counts(\"clas_nivel_IMC\")"
      ],
      "id": "02aff10e"
    },
    {
      "cell_type": "code",
      "execution_count": 117,
      "metadata": {
        "id": "d380dfc6"
      },
      "outputs": [],
      "source": [
        "def grado_presion (i, j):\n",
        "    if (i<=120 and j<=80):\n",
        "        return \"Normal\"\n",
        "    elif ((i>120 or j>80) and (i<140 or j<90)):\n",
        "        return \"Elevado\"\n",
        "    elif (i>=140 or j>=90) and (i<=180 or j<=120):\n",
        "        return \"Hipertension\"\n",
        "    elif (i>=180 and j>=120):\n",
        "        return \"Crisis\""
      ],
      "id": "d380dfc6"
    },
    {
      "cell_type": "code",
      "execution_count": 118,
      "metadata": {
        "id": "5fab7384"
      },
      "outputs": [],
      "source": [
        "data[\"grado_presion\"] = data.apply(lambda x: grado_presion(x.ap_hi, x.ap_lo), axis=1)"
      ],
      "id": "5fab7384"
    },
    {
      "cell_type": "code",
      "execution_count": 119,
      "metadata": {
        "id": "94400059"
      },
      "outputs": [],
      "source": [
        "def grado_nivel_presion (i, j):\n",
        "    if (i<=120 and j<=80):\n",
        "        return 0\n",
        "    elif ((i>120 or j>80) and (i<140 or j<90)):\n",
        "        return 1\n",
        "    elif (i>=140 or j>=90) and (i<=180 or j<=120):\n",
        "        return 2\n",
        "    elif (i>=180 and j>=120):\n",
        "        return 3"
      ],
      "id": "94400059"
    },
    {
      "cell_type": "code",
      "execution_count": 120,
      "metadata": {
        "id": "1a759a8b"
      },
      "outputs": [],
      "source": [
        "data[\"grado_nivel_presion\"] = data.apply(lambda x: grado_nivel_presion(x.ap_hi, x.ap_lo), axis=1)"
      ],
      "id": "1a759a8b"
    },
    {
      "cell_type": "code",
      "execution_count": 121,
      "metadata": {
        "id": "5ad9e09c"
      },
      "outputs": [],
      "source": [
        "data[\"age_years\"] = data.age/365"
      ],
      "id": "5ad9e09c"
    },
    {
      "cell_type": "code",
      "execution_count": 122,
      "metadata": {
        "id": "3c01abd3"
      },
      "outputs": [],
      "source": [
        "data[\"age_years\"] = data[\"age_years\"].apply(int)"
      ],
      "id": "3c01abd3"
    },
    {
      "cell_type": "code",
      "execution_count": 123,
      "metadata": {
        "colab": {
          "base_uri": "https://localhost:8080/",
          "height": 540
        },
        "id": "e20de494",
        "outputId": "2b9d4ecd-9fee-493f-c0c2-22215f894f70"
      },
      "outputs": [
        {
          "output_type": "execute_result",
          "data": {
            "text/plain": [
              "          id    age  gender  height  weight  ap_hi  ap_lo  cholesterol  gluc  \\\n",
              "0          0  18393       2     168    62.0    110     80            1     1   \n",
              "1          1  20228       1     156    85.0    140     90            3     1   \n",
              "2          2  18857       1     165    64.0    130     70            3     1   \n",
              "3          3  17623       2     169    82.0    150    100            1     1   \n",
              "4          4  17474       1     156    56.0    100     60            1     1   \n",
              "...      ...    ...     ...     ...     ...    ...    ...          ...   ...   \n",
              "69995  99993  19240       2     168    76.0    120     80            1     1   \n",
              "69996  99995  22601       1     158   126.0    140     90            2     2   \n",
              "69997  99996  19066       2     183   105.0    180     90            3     1   \n",
              "69998  99998  22431       1     163    72.0    135     80            1     2   \n",
              "69999  99999  20540       1     170    72.0    120     80            2     1   \n",
              "\n",
              "       smoke  alco  active  cardio   IMC           clas_IMC  clas_nivel_IMC  \\\n",
              "0          0     0       1       0  22.0             Normal               0   \n",
              "1          0     0       1       1  34.9  Obesidad Moderada               1   \n",
              "2          0     0       0       1  23.5             Normal               0   \n",
              "3          0     0       1       1  28.7             Normal               0   \n",
              "4          0     0       0       0  23.0             Normal               0   \n",
              "...      ...   ...     ...     ...   ...                ...             ...   \n",
              "69995      1     0       1       0  26.9             Normal               0   \n",
              "69996      0     0       1       1  50.5   Obesidad Morbida               3   \n",
              "69997      0     1       0       1  31.4  Obesidad Moderada               1   \n",
              "69998      0     0       0       1  27.1             Normal               0   \n",
              "69999      0     0       1       0  24.9             Normal               0   \n",
              "\n",
              "      grado_presion  grado_nivel_presion  age_years  \n",
              "0            Normal                    0         50  \n",
              "1      Hipertension                    2         55  \n",
              "2           Elevado                    1         51  \n",
              "3      Hipertension                    2         48  \n",
              "4            Normal                    0         47  \n",
              "...             ...                  ...        ...  \n",
              "69995        Normal                    0         52  \n",
              "69996  Hipertension                    2         61  \n",
              "69997  Hipertension                    2         52  \n",
              "69998       Elevado                    1         61  \n",
              "69999        Normal                    0         56  \n",
              "\n",
              "[70000 rows x 19 columns]"
            ],
            "text/html": [
              "\n",
              "  <div id=\"df-2d701dec-1d29-4581-bdab-87487fcd818e\">\n",
              "    <div class=\"colab-df-container\">\n",
              "      <div>\n",
              "<style scoped>\n",
              "    .dataframe tbody tr th:only-of-type {\n",
              "        vertical-align: middle;\n",
              "    }\n",
              "\n",
              "    .dataframe tbody tr th {\n",
              "        vertical-align: top;\n",
              "    }\n",
              "\n",
              "    .dataframe thead th {\n",
              "        text-align: right;\n",
              "    }\n",
              "</style>\n",
              "<table border=\"1\" class=\"dataframe\">\n",
              "  <thead>\n",
              "    <tr style=\"text-align: right;\">\n",
              "      <th></th>\n",
              "      <th>id</th>\n",
              "      <th>age</th>\n",
              "      <th>gender</th>\n",
              "      <th>height</th>\n",
              "      <th>weight</th>\n",
              "      <th>ap_hi</th>\n",
              "      <th>ap_lo</th>\n",
              "      <th>cholesterol</th>\n",
              "      <th>gluc</th>\n",
              "      <th>smoke</th>\n",
              "      <th>alco</th>\n",
              "      <th>active</th>\n",
              "      <th>cardio</th>\n",
              "      <th>IMC</th>\n",
              "      <th>clas_IMC</th>\n",
              "      <th>clas_nivel_IMC</th>\n",
              "      <th>grado_presion</th>\n",
              "      <th>grado_nivel_presion</th>\n",
              "      <th>age_years</th>\n",
              "    </tr>\n",
              "  </thead>\n",
              "  <tbody>\n",
              "    <tr>\n",
              "      <th>0</th>\n",
              "      <td>0</td>\n",
              "      <td>18393</td>\n",
              "      <td>2</td>\n",
              "      <td>168</td>\n",
              "      <td>62.0</td>\n",
              "      <td>110</td>\n",
              "      <td>80</td>\n",
              "      <td>1</td>\n",
              "      <td>1</td>\n",
              "      <td>0</td>\n",
              "      <td>0</td>\n",
              "      <td>1</td>\n",
              "      <td>0</td>\n",
              "      <td>22.0</td>\n",
              "      <td>Normal</td>\n",
              "      <td>0</td>\n",
              "      <td>Normal</td>\n",
              "      <td>0</td>\n",
              "      <td>50</td>\n",
              "    </tr>\n",
              "    <tr>\n",
              "      <th>1</th>\n",
              "      <td>1</td>\n",
              "      <td>20228</td>\n",
              "      <td>1</td>\n",
              "      <td>156</td>\n",
              "      <td>85.0</td>\n",
              "      <td>140</td>\n",
              "      <td>90</td>\n",
              "      <td>3</td>\n",
              "      <td>1</td>\n",
              "      <td>0</td>\n",
              "      <td>0</td>\n",
              "      <td>1</td>\n",
              "      <td>1</td>\n",
              "      <td>34.9</td>\n",
              "      <td>Obesidad Moderada</td>\n",
              "      <td>1</td>\n",
              "      <td>Hipertension</td>\n",
              "      <td>2</td>\n",
              "      <td>55</td>\n",
              "    </tr>\n",
              "    <tr>\n",
              "      <th>2</th>\n",
              "      <td>2</td>\n",
              "      <td>18857</td>\n",
              "      <td>1</td>\n",
              "      <td>165</td>\n",
              "      <td>64.0</td>\n",
              "      <td>130</td>\n",
              "      <td>70</td>\n",
              "      <td>3</td>\n",
              "      <td>1</td>\n",
              "      <td>0</td>\n",
              "      <td>0</td>\n",
              "      <td>0</td>\n",
              "      <td>1</td>\n",
              "      <td>23.5</td>\n",
              "      <td>Normal</td>\n",
              "      <td>0</td>\n",
              "      <td>Elevado</td>\n",
              "      <td>1</td>\n",
              "      <td>51</td>\n",
              "    </tr>\n",
              "    <tr>\n",
              "      <th>3</th>\n",
              "      <td>3</td>\n",
              "      <td>17623</td>\n",
              "      <td>2</td>\n",
              "      <td>169</td>\n",
              "      <td>82.0</td>\n",
              "      <td>150</td>\n",
              "      <td>100</td>\n",
              "      <td>1</td>\n",
              "      <td>1</td>\n",
              "      <td>0</td>\n",
              "      <td>0</td>\n",
              "      <td>1</td>\n",
              "      <td>1</td>\n",
              "      <td>28.7</td>\n",
              "      <td>Normal</td>\n",
              "      <td>0</td>\n",
              "      <td>Hipertension</td>\n",
              "      <td>2</td>\n",
              "      <td>48</td>\n",
              "    </tr>\n",
              "    <tr>\n",
              "      <th>4</th>\n",
              "      <td>4</td>\n",
              "      <td>17474</td>\n",
              "      <td>1</td>\n",
              "      <td>156</td>\n",
              "      <td>56.0</td>\n",
              "      <td>100</td>\n",
              "      <td>60</td>\n",
              "      <td>1</td>\n",
              "      <td>1</td>\n",
              "      <td>0</td>\n",
              "      <td>0</td>\n",
              "      <td>0</td>\n",
              "      <td>0</td>\n",
              "      <td>23.0</td>\n",
              "      <td>Normal</td>\n",
              "      <td>0</td>\n",
              "      <td>Normal</td>\n",
              "      <td>0</td>\n",
              "      <td>47</td>\n",
              "    </tr>\n",
              "    <tr>\n",
              "      <th>...</th>\n",
              "      <td>...</td>\n",
              "      <td>...</td>\n",
              "      <td>...</td>\n",
              "      <td>...</td>\n",
              "      <td>...</td>\n",
              "      <td>...</td>\n",
              "      <td>...</td>\n",
              "      <td>...</td>\n",
              "      <td>...</td>\n",
              "      <td>...</td>\n",
              "      <td>...</td>\n",
              "      <td>...</td>\n",
              "      <td>...</td>\n",
              "      <td>...</td>\n",
              "      <td>...</td>\n",
              "      <td>...</td>\n",
              "      <td>...</td>\n",
              "      <td>...</td>\n",
              "      <td>...</td>\n",
              "    </tr>\n",
              "    <tr>\n",
              "      <th>69995</th>\n",
              "      <td>99993</td>\n",
              "      <td>19240</td>\n",
              "      <td>2</td>\n",
              "      <td>168</td>\n",
              "      <td>76.0</td>\n",
              "      <td>120</td>\n",
              "      <td>80</td>\n",
              "      <td>1</td>\n",
              "      <td>1</td>\n",
              "      <td>1</td>\n",
              "      <td>0</td>\n",
              "      <td>1</td>\n",
              "      <td>0</td>\n",
              "      <td>26.9</td>\n",
              "      <td>Normal</td>\n",
              "      <td>0</td>\n",
              "      <td>Normal</td>\n",
              "      <td>0</td>\n",
              "      <td>52</td>\n",
              "    </tr>\n",
              "    <tr>\n",
              "      <th>69996</th>\n",
              "      <td>99995</td>\n",
              "      <td>22601</td>\n",
              "      <td>1</td>\n",
              "      <td>158</td>\n",
              "      <td>126.0</td>\n",
              "      <td>140</td>\n",
              "      <td>90</td>\n",
              "      <td>2</td>\n",
              "      <td>2</td>\n",
              "      <td>0</td>\n",
              "      <td>0</td>\n",
              "      <td>1</td>\n",
              "      <td>1</td>\n",
              "      <td>50.5</td>\n",
              "      <td>Obesidad Morbida</td>\n",
              "      <td>3</td>\n",
              "      <td>Hipertension</td>\n",
              "      <td>2</td>\n",
              "      <td>61</td>\n",
              "    </tr>\n",
              "    <tr>\n",
              "      <th>69997</th>\n",
              "      <td>99996</td>\n",
              "      <td>19066</td>\n",
              "      <td>2</td>\n",
              "      <td>183</td>\n",
              "      <td>105.0</td>\n",
              "      <td>180</td>\n",
              "      <td>90</td>\n",
              "      <td>3</td>\n",
              "      <td>1</td>\n",
              "      <td>0</td>\n",
              "      <td>1</td>\n",
              "      <td>0</td>\n",
              "      <td>1</td>\n",
              "      <td>31.4</td>\n",
              "      <td>Obesidad Moderada</td>\n",
              "      <td>1</td>\n",
              "      <td>Hipertension</td>\n",
              "      <td>2</td>\n",
              "      <td>52</td>\n",
              "    </tr>\n",
              "    <tr>\n",
              "      <th>69998</th>\n",
              "      <td>99998</td>\n",
              "      <td>22431</td>\n",
              "      <td>1</td>\n",
              "      <td>163</td>\n",
              "      <td>72.0</td>\n",
              "      <td>135</td>\n",
              "      <td>80</td>\n",
              "      <td>1</td>\n",
              "      <td>2</td>\n",
              "      <td>0</td>\n",
              "      <td>0</td>\n",
              "      <td>0</td>\n",
              "      <td>1</td>\n",
              "      <td>27.1</td>\n",
              "      <td>Normal</td>\n",
              "      <td>0</td>\n",
              "      <td>Elevado</td>\n",
              "      <td>1</td>\n",
              "      <td>61</td>\n",
              "    </tr>\n",
              "    <tr>\n",
              "      <th>69999</th>\n",
              "      <td>99999</td>\n",
              "      <td>20540</td>\n",
              "      <td>1</td>\n",
              "      <td>170</td>\n",
              "      <td>72.0</td>\n",
              "      <td>120</td>\n",
              "      <td>80</td>\n",
              "      <td>2</td>\n",
              "      <td>1</td>\n",
              "      <td>0</td>\n",
              "      <td>0</td>\n",
              "      <td>1</td>\n",
              "      <td>0</td>\n",
              "      <td>24.9</td>\n",
              "      <td>Normal</td>\n",
              "      <td>0</td>\n",
              "      <td>Normal</td>\n",
              "      <td>0</td>\n",
              "      <td>56</td>\n",
              "    </tr>\n",
              "  </tbody>\n",
              "</table>\n",
              "<p>70000 rows × 19 columns</p>\n",
              "</div>\n",
              "      <button class=\"colab-df-convert\" onclick=\"convertToInteractive('df-2d701dec-1d29-4581-bdab-87487fcd818e')\"\n",
              "              title=\"Convert this dataframe to an interactive table.\"\n",
              "              style=\"display:none;\">\n",
              "        \n",
              "  <svg xmlns=\"http://www.w3.org/2000/svg\" height=\"24px\"viewBox=\"0 0 24 24\"\n",
              "       width=\"24px\">\n",
              "    <path d=\"M0 0h24v24H0V0z\" fill=\"none\"/>\n",
              "    <path d=\"M18.56 5.44l.94 2.06.94-2.06 2.06-.94-2.06-.94-.94-2.06-.94 2.06-2.06.94zm-11 1L8.5 8.5l.94-2.06 2.06-.94-2.06-.94L8.5 2.5l-.94 2.06-2.06.94zm10 10l.94 2.06.94-2.06 2.06-.94-2.06-.94-.94-2.06-.94 2.06-2.06.94z\"/><path d=\"M17.41 7.96l-1.37-1.37c-.4-.4-.92-.59-1.43-.59-.52 0-1.04.2-1.43.59L10.3 9.45l-7.72 7.72c-.78.78-.78 2.05 0 2.83L4 21.41c.39.39.9.59 1.41.59.51 0 1.02-.2 1.41-.59l7.78-7.78 2.81-2.81c.8-.78.8-2.07 0-2.86zM5.41 20L4 18.59l7.72-7.72 1.47 1.35L5.41 20z\"/>\n",
              "  </svg>\n",
              "      </button>\n",
              "      \n",
              "  <style>\n",
              "    .colab-df-container {\n",
              "      display:flex;\n",
              "      flex-wrap:wrap;\n",
              "      gap: 12px;\n",
              "    }\n",
              "\n",
              "    .colab-df-convert {\n",
              "      background-color: #E8F0FE;\n",
              "      border: none;\n",
              "      border-radius: 50%;\n",
              "      cursor: pointer;\n",
              "      display: none;\n",
              "      fill: #1967D2;\n",
              "      height: 32px;\n",
              "      padding: 0 0 0 0;\n",
              "      width: 32px;\n",
              "    }\n",
              "\n",
              "    .colab-df-convert:hover {\n",
              "      background-color: #E2EBFA;\n",
              "      box-shadow: 0px 1px 2px rgba(60, 64, 67, 0.3), 0px 1px 3px 1px rgba(60, 64, 67, 0.15);\n",
              "      fill: #174EA6;\n",
              "    }\n",
              "\n",
              "    [theme=dark] .colab-df-convert {\n",
              "      background-color: #3B4455;\n",
              "      fill: #D2E3FC;\n",
              "    }\n",
              "\n",
              "    [theme=dark] .colab-df-convert:hover {\n",
              "      background-color: #434B5C;\n",
              "      box-shadow: 0px 1px 3px 1px rgba(0, 0, 0, 0.15);\n",
              "      filter: drop-shadow(0px 1px 2px rgba(0, 0, 0, 0.3));\n",
              "      fill: #FFFFFF;\n",
              "    }\n",
              "  </style>\n",
              "\n",
              "      <script>\n",
              "        const buttonEl =\n",
              "          document.querySelector('#df-2d701dec-1d29-4581-bdab-87487fcd818e button.colab-df-convert');\n",
              "        buttonEl.style.display =\n",
              "          google.colab.kernel.accessAllowed ? 'block' : 'none';\n",
              "\n",
              "        async function convertToInteractive(key) {\n",
              "          const element = document.querySelector('#df-2d701dec-1d29-4581-bdab-87487fcd818e');\n",
              "          const dataTable =\n",
              "            await google.colab.kernel.invokeFunction('convertToInteractive',\n",
              "                                                     [key], {});\n",
              "          if (!dataTable) return;\n",
              "\n",
              "          const docLinkHtml = 'Like what you see? Visit the ' +\n",
              "            '<a target=\"_blank\" href=https://colab.research.google.com/notebooks/data_table.ipynb>data table notebook</a>'\n",
              "            + ' to learn more about interactive tables.';\n",
              "          element.innerHTML = '';\n",
              "          dataTable['output_type'] = 'display_data';\n",
              "          await google.colab.output.renderOutput(dataTable, element);\n",
              "          const docLink = document.createElement('div');\n",
              "          docLink.innerHTML = docLinkHtml;\n",
              "          element.appendChild(docLink);\n",
              "        }\n",
              "      </script>\n",
              "    </div>\n",
              "  </div>\n",
              "  "
            ]
          },
          "metadata": {},
          "execution_count": 123
        }
      ],
      "source": [
        "data"
      ],
      "id": "e20de494"
    },
    {
      "cell_type": "code",
      "execution_count": 124,
      "metadata": {
        "colab": {
          "base_uri": "https://localhost:8080/",
          "height": 369
        },
        "id": "cd303f66",
        "outputId": "3207ec6e-65a0-4532-bede-51e2d3cfa2ae"
      },
      "outputs": [
        {
          "output_type": "display_data",
          "data": {
            "text/plain": [
              "<Figure size 720x360 with 1 Axes>"
            ],
            "image/png": "[encoded data removed]"
          },
          "metadata": {}
        }
      ],
      "source": [
        "with sns.axes_style('white'):\n",
        "    g = sns.catplot(x = \"age_years\", data=data, aspect=2.0, kind='count')\n",
        "    g.set_ylabels('Total')"
      ],
      "id": "cd303f66"
    },
    {
      "cell_type": "markdown",
      "metadata": {
        "id": "3ae3b72e"
      },
      "source": [
        "# TRAIN TEST con Variables nuevas"
      ],
      "id": "3ae3b72e"
    },
    {
      "cell_type": "code",
      "execution_count": 125,
      "metadata": {
        "id": "cf394f96"
      },
      "outputs": [],
      "source": [
        "X = data.drop([\"cardio\", \"id\", 'clas_IMC', \"grado_presion\"], axis=1)\n",
        "y = data[\"cardio\"]\n",
        "\n"
      ],
      "id": "cf394f96"
    },
    {
      "cell_type": "code",
      "execution_count": 126,
      "metadata": {
        "id": "696706e8"
      },
      "outputs": [],
      "source": [
        "X_train, X_test, y_train, y_test = train_test_split(X, y,test_size=0.2,random_state=0)"
      ],
      "id": "696706e8"
    },
    {
      "cell_type": "code",
      "execution_count": 127,
      "metadata": {
        "id": "cc63e24c"
      },
      "outputs": [],
      "source": [
        "logistic_regression = LogisticRegression()\n",
        "folds=StratifiedKFold(n_splits=5, random_state=12, shuffle=True)\n",
        "params_reg_log = {'C': [1, 10, 100, 1000],\n",
        "                    'penalty': ['l1', 'l2', 'elasticnet'],\n",
        "                     'solver': ['saga','newton-cg', 'lbfgs', 'liblinear', 'sag']}\n",
        "\n",
        "rs_reg_log = RandomizedSearchCV(estimator=logistic_regression, param_distributions=params_reg_log, scoring='recall', cv=folds, n_jobs=4, random_state=12)"
      ],
      "id": "cc63e24c"
    },
    {
      "cell_type": "code",
      "execution_count": 128,
      "metadata": {
        "colab": {
          "base_uri": "https://localhost:8080/"
        },
        "id": "e9035bc1",
        "outputId": "e999977f-26ec-477f-c060-40a151cd84f8"
      },
      "outputs": [
        {
          "output_type": "stream",
          "name": "stderr",
          "text": [
            "/usr/local/lib/python3.8/dist-packages/sklearn/model_selection/_validation.py:372: FitFailedWarning: \n",
            "25 fits failed out of a total of 50.\n",
            "The score on these train-test partitions for these parameters will be set to nan.\n",
            "If these failures are not expected, you can try to debug them by setting error_score='raise'.\n",
            "\n",
            "Below are more details about the failures:\n",
            "--------------------------------------------------------------------------------\n",
            "10 fits failed with the following error:\n",
            "Traceback (most recent call last):\n",
            "  File \"/usr/local/lib/python3.8/dist-packages/sklearn/model_selection/_validation.py\", line 680, in _fit_and_score\n",
            "    estimator.fit(X_train, y_train, **fit_params)\n",
            "  File \"/usr/local/lib/python3.8/dist-packages/sklearn/linear_model/_logistic.py\", line 1461, in fit\n",
            "    solver = _check_solver(self.solver, self.penalty, self.dual)\n",
            "  File \"/usr/local/lib/python3.8/dist-packages/sklearn/linear_model/_logistic.py\", line 457, in _check_solver\n",
            "    raise ValueError(\n",
            "ValueError: Only 'saga' solver supports elasticnet penalty, got solver=liblinear.\n",
            "\n",
            "--------------------------------------------------------------------------------\n",
            "5 fits failed with the following error:\n",
            "Traceback (most recent call last):\n",
            "  File \"/usr/local/lib/python3.8/dist-packages/sklearn/model_selection/_validation.py\", line 680, in _fit_and_score\n",
            "    estimator.fit(X_train, y_train, **fit_params)\n",
            "  File \"/usr/local/lib/python3.8/dist-packages/sklearn/linear_model/_logistic.py\", line 1471, in fit\n",
            "    raise ValueError(\n",
            "ValueError: l1_ratio must be between 0 and 1; got (l1_ratio=None)\n",
            "\n",
            "--------------------------------------------------------------------------------\n",
            "5 fits failed with the following error:\n",
            "Traceback (most recent call last):\n",
            "  File \"/usr/local/lib/python3.8/dist-packages/sklearn/model_selection/_validation.py\", line 680, in _fit_and_score\n",
            "    estimator.fit(X_train, y_train, **fit_params)\n",
            "  File \"/usr/local/lib/python3.8/dist-packages/sklearn/linear_model/_logistic.py\", line 1461, in fit\n",
            "    solver = _check_solver(self.solver, self.penalty, self.dual)\n",
            "  File \"/usr/local/lib/python3.8/dist-packages/sklearn/linear_model/_logistic.py\", line 447, in _check_solver\n",
            "    raise ValueError(\n",
            "ValueError: Solver newton-cg supports only 'l2' or 'none' penalties, got elasticnet penalty.\n",
            "\n",
            "--------------------------------------------------------------------------------\n",
            "5 fits failed with the following error:\n",
            "Traceback (most recent call last):\n",
            "  File \"/usr/local/lib/python3.8/dist-packages/sklearn/model_selection/_validation.py\", line 680, in _fit_and_score\n",
            "    estimator.fit(X_train, y_train, **fit_params)\n",
            "  File \"/usr/local/lib/python3.8/dist-packages/sklearn/linear_model/_logistic.py\", line 1461, in fit\n",
            "    solver = _check_solver(self.solver, self.penalty, self.dual)\n",
            "  File \"/usr/local/lib/python3.8/dist-packages/sklearn/linear_model/_logistic.py\", line 447, in _check_solver\n",
            "    raise ValueError(\n",
            "ValueError: Solver sag supports only 'l2' or 'none' penalties, got l1 penalty.\n",
            "\n",
            "  warnings.warn(some_fits_failed_message, FitFailedWarning)\n",
            "/usr/local/lib/python3.8/dist-packages/sklearn/model_selection/_search.py:969: UserWarning: One or more of the test scores are non-finite: [       nan        nan 0.68364975 0.66585875        nan 0.6779094\n",
            " 0.66992339        nan        nan 0.66650055]\n",
            "  warnings.warn(\n",
            "/usr/local/lib/python3.8/dist-packages/sklearn/linear_model/_sag.py:352: ConvergenceWarning: The max_iter was reached which means the coef_ did not converge\n",
            "  warnings.warn(\n"
          ]
        },
        {
          "output_type": "execute_result",
          "data": {
            "text/plain": [
              "RandomizedSearchCV(cv=StratifiedKFold(n_splits=5, random_state=12, shuffle=True),\n",
              "                   estimator=LogisticRegression(), n_jobs=4,\n",
              "                   param_distributions={'C': [1, 10, 100, 1000],\n",
              "                                        'penalty': ['l1', 'l2', 'elasticnet'],\n",
              "                                        'solver': ['saga', 'newton-cg', 'lbfgs',\n",
              "                                                   'liblinear', 'sag']},\n",
              "                   random_state=12, scoring='recall')"
            ]
          },
          "metadata": {},
          "execution_count": 128
        }
      ],
      "source": [
        "rs_reg_log.fit(X_train, y_train)"
      ],
      "id": "e9035bc1"
    },
    {
      "cell_type": "code",
      "execution_count": 129,
      "metadata": {
        "colab": {
          "base_uri": "https://localhost:8080/",
          "height": 565
        },
        "id": "6c0b4de4",
        "outputId": "1c1e3bea-cf10-4432-e9cc-33c7d921d9db"
      },
      "outputs": [
        {
          "output_type": "execute_result",
          "data": {
            "text/plain": [
              "   mean_fit_time  std_fit_time  mean_score_time  std_score_time param_solver  \\\n",
              "0       0.013567      0.002333         0.000000        0.000000    liblinear   \n",
              "1       0.018204      0.006019         0.000000        0.000000         saga   \n",
              "2       9.667179      0.464441         0.027294        0.008342         saga   \n",
              "3       2.345957      0.854372         0.021861        0.008170    liblinear   \n",
              "4       0.015590      0.001984         0.000000        0.000000    newton-cg   \n",
              "\n",
              "  param_penalty param_C                                             params  \\\n",
              "0    elasticnet    1000  {'solver': 'liblinear', 'penalty': 'elasticnet...   \n",
              "1    elasticnet    1000  {'solver': 'saga', 'penalty': 'elasticnet', 'C...   \n",
              "2            l1    1000     {'solver': 'saga', 'penalty': 'l1', 'C': 1000}   \n",
              "3            l2       1   {'solver': 'liblinear', 'penalty': 'l2', 'C': 1}   \n",
              "4    elasticnet      10  {'solver': 'newton-cg', 'penalty': 'elasticnet...   \n",
              "\n",
              "   split0_test_score  split1_test_score  split2_test_score  split3_test_score  \\\n",
              "0                NaN                NaN                NaN                NaN   \n",
              "1                NaN                NaN                NaN                NaN   \n",
              "2           0.682175           0.678966           0.681640           0.697629   \n",
              "3           0.660784           0.666845           0.663636           0.679265   \n",
              "4                NaN                NaN                NaN                NaN   \n",
              "\n",
              "   split4_test_score  mean_test_score  std_test_score  rank_test_score  \n",
              "0                NaN              NaN             NaN                6  \n",
              "1                NaN              NaN             NaN                7  \n",
              "2           0.677839         0.683650        0.007174                1  \n",
              "3           0.658763         0.665859        0.007235                5  \n",
              "4                NaN              NaN             NaN                8  "
            ],
            "text/html": [
              "\n",
              "  <div id=\"df-7e85ffd9-fd84-41d1-aa31-f71a16a8041f\">\n",
              "    <div class=\"colab-df-container\">\n",
              "      <div>\n",
              "<style scoped>\n",
              "    .dataframe tbody tr th:only-of-type {\n",
              "        vertical-align: middle;\n",
              "    }\n",
              "\n",
              "    .dataframe tbody tr th {\n",
              "        vertical-align: top;\n",
              "    }\n",
              "\n",
              "    .dataframe thead th {\n",
              "        text-align: right;\n",
              "    }\n",
              "</style>\n",
              "<table border=\"1\" class=\"dataframe\">\n",
              "  <thead>\n",
              "    <tr style=\"text-align: right;\">\n",
              "      <th></th>\n",
              "      <th>mean_fit_time</th>\n",
              "      <th>std_fit_time</th>\n",
              "      <th>mean_score_time</th>\n",
              "      <th>std_score_time</th>\n",
              "      <th>param_solver</th>\n",
              "      <th>param_penalty</th>\n",
              "      <th>param_C</th>\n",
              "      <th>params</th>\n",
              "      <th>split0_test_score</th>\n",
              "      <th>split1_test_score</th>\n",
              "      <th>split2_test_score</th>\n",
              "      <th>split3_test_score</th>\n",
              "      <th>split4_test_score</th>\n",
              "      <th>mean_test_score</th>\n",
              "      <th>std_test_score</th>\n",
              "      <th>rank_test_score</th>\n",
              "    </tr>\n",
              "  </thead>\n",
              "  <tbody>\n",
              "    <tr>\n",
              "      <th>0</th>\n",
              "      <td>0.013567</td>\n",
              "      <td>0.002333</td>\n",
              "      <td>0.000000</td>\n",
              "      <td>0.000000</td>\n",
              "      <td>liblinear</td>\n",
              "      <td>elasticnet</td>\n",
              "      <td>1000</td>\n",
              "      <td>{'solver': 'liblinear', 'penalty': 'elasticnet...</td>\n",
              "      <td>NaN</td>\n",
              "      <td>NaN</td>\n",
              "      <td>NaN</td>\n",
              "      <td>NaN</td>\n",
              "      <td>NaN</td>\n",
              "      <td>NaN</td>\n",
              "      <td>NaN</td>\n",
              "      <td>6</td>\n",
              "    </tr>\n",
              "    <tr>\n",
              "      <th>1</th>\n",
              "      <td>0.018204</td>\n",
              "      <td>0.006019</td>\n",
              "      <td>0.000000</td>\n",
              "      <td>0.000000</td>\n",
              "      <td>saga</td>\n",
              "      <td>elasticnet</td>\n",
              "      <td>1000</td>\n",
              "      <td>{'solver': 'saga', 'penalty': 'elasticnet', 'C...</td>\n",
              "      <td>NaN</td>\n",
              "      <td>NaN</td>\n",
              "      <td>NaN</td>\n",
              "      <td>NaN</td>\n",
              "      <td>NaN</td>\n",
              "      <td>NaN</td>\n",
              "      <td>NaN</td>\n",
              "      <td>7</td>\n",
              "    </tr>\n",
              "    <tr>\n",
              "      <th>2</th>\n",
              "      <td>9.667179</td>\n",
              "      <td>0.464441</td>\n",
              "      <td>0.027294</td>\n",
              "      <td>0.008342</td>\n",
              "      <td>saga</td>\n",
              "      <td>l1</td>\n",
              "      <td>1000</td>\n",
              "      <td>{'solver': 'saga', 'penalty': 'l1', 'C': 1000}</td>\n",
              "      <td>0.682175</td>\n",
              "      <td>0.678966</td>\n",
              "      <td>0.681640</td>\n",
              "      <td>0.697629</td>\n",
              "      <td>0.677839</td>\n",
              "      <td>0.683650</td>\n",
              "      <td>0.007174</td>\n",
              "      <td>1</td>\n",
              "    </tr>\n",
              "    <tr>\n",
              "      <th>3</th>\n",
              "      <td>2.345957</td>\n",
              "      <td>0.854372</td>\n",
              "      <td>0.021861</td>\n",
              "      <td>0.008170</td>\n",
              "      <td>liblinear</td>\n",
              "      <td>l2</td>\n",
              "      <td>1</td>\n",
              "      <td>{'solver': 'liblinear', 'penalty': 'l2', 'C': 1}</td>\n",
              "      <td>0.660784</td>\n",
              "      <td>0.666845</td>\n",
              "      <td>0.663636</td>\n",
              "      <td>0.679265</td>\n",
              "      <td>0.658763</td>\n",
              "      <td>0.665859</td>\n",
              "      <td>0.007235</td>\n",
              "      <td>5</td>\n",
              "    </tr>\n",
              "    <tr>\n",
              "      <th>4</th>\n",
              "      <td>0.015590</td>\n",
              "      <td>0.001984</td>\n",
              "      <td>0.000000</td>\n",
              "      <td>0.000000</td>\n",
              "      <td>newton-cg</td>\n",
              "      <td>elasticnet</td>\n",
              "      <td>10</td>\n",
              "      <td>{'solver': 'newton-cg', 'penalty': 'elasticnet...</td>\n",
              "      <td>NaN</td>\n",
              "      <td>NaN</td>\n",
              "      <td>NaN</td>\n",
              "      <td>NaN</td>\n",
              "      <td>NaN</td>\n",
              "      <td>NaN</td>\n",
              "      <td>NaN</td>\n",
              "      <td>8</td>\n",
              "    </tr>\n",
              "  </tbody>\n",
              "</table>\n",
              "</div>\n",
              "      <button class=\"colab-df-convert\" onclick=\"convertToInteractive('df-7e85ffd9-fd84-41d1-aa31-f71a16a8041f')\"\n",
              "              title=\"Convert this dataframe to an interactive table.\"\n",
              "              style=\"display:none;\">\n",
              "        \n",
              "  <svg xmlns=\"http://www.w3.org/2000/svg\" height=\"24px\"viewBox=\"0 0 24 24\"\n",
              "       width=\"24px\">\n",
              "    <path d=\"M0 0h24v24H0V0z\" fill=\"none\"/>\n",
              "    <path d=\"M18.56 5.44l.94 2.06.94-2.06 2.06-.94-2.06-.94-.94-2.06-.94 2.06-2.06.94zm-11 1L8.5 8.5l.94-2.06 2.06-.94-2.06-.94L8.5 2.5l-.94 2.06-2.06.94zm10 10l.94 2.06.94-2.06 2.06-.94-2.06-.94-.94-2.06-.94 2.06-2.06.94z\"/><path d=\"M17.41 7.96l-1.37-1.37c-.4-.4-.92-.59-1.43-.59-.52 0-1.04.2-1.43.59L10.3 9.45l-7.72 7.72c-.78.78-.78 2.05 0 2.83L4 21.41c.39.39.9.59 1.41.59.51 0 1.02-.2 1.41-.59l7.78-7.78 2.81-2.81c.8-.78.8-2.07 0-2.86zM5.41 20L4 18.59l7.72-7.72 1.47 1.35L5.41 20z\"/>\n",
              "  </svg>\n",
              "      </button>\n",
              "      \n",
              "  <style>\n",
              "    .colab-df-container {\n",
              "      display:flex;\n",
              "      flex-wrap:wrap;\n",
              "      gap: 12px;\n",
              "    }\n",
              "\n",
              "    .colab-df-convert {\n",
              "      background-color: #E8F0FE;\n",
              "      border: none;\n",
              "      border-radius: 50%;\n",
              "      cursor: pointer;\n",
              "      display: none;\n",
              "      fill: #1967D2;\n",
              "      height: 32px;\n",
              "      padding: 0 0 0 0;\n",
              "      width: 32px;\n",
              "    }\n",
              "\n",
              "    .colab-df-convert:hover {\n",
              "      background-color: #E2EBFA;\n",
              "      box-shadow: 0px 1px 2px rgba(60, 64, 67, 0.3), 0px 1px 3px 1px rgba(60, 64, 67, 0.15);\n",
              "      fill: #174EA6;\n",
              "    }\n",
              "\n",
              "    [theme=dark] .colab-df-convert {\n",
              "      background-color: #3B4455;\n",
              "      fill: #D2E3FC;\n",
              "    }\n",
              "\n",
              "    [theme=dark] .colab-df-convert:hover {\n",
              "      background-color: #434B5C;\n",
              "      box-shadow: 0px 1px 3px 1px rgba(0, 0, 0, 0.15);\n",
              "      filter: drop-shadow(0px 1px 2px rgba(0, 0, 0, 0.3));\n",
              "      fill: #FFFFFF;\n",
              "    }\n",
              "  </style>\n",
              "\n",
              "      <script>\n",
              "        const buttonEl =\n",
              "          document.querySelector('#df-7e85ffd9-fd84-41d1-aa31-f71a16a8041f button.colab-df-convert');\n",
              "        buttonEl.style.display =\n",
              "          google.colab.kernel.accessAllowed ? 'block' : 'none';\n",
              "\n",
              "        async function convertToInteractive(key) {\n",
              "          const element = document.querySelector('#df-7e85ffd9-fd84-41d1-aa31-f71a16a8041f');\n",
              "          const dataTable =\n",
              "            await google.colab.kernel.invokeFunction('convertToInteractive',\n",
              "                                                     [key], {});\n",
              "          if (!dataTable) return;\n",
              "\n",
              "          const docLinkHtml = 'Like what you see? Visit the ' +\n",
              "            '<a target=\"_blank\" href=https://colab.research.google.com/notebooks/data_table.ipynb>data table notebook</a>'\n",
              "            + ' to learn more about interactive tables.';\n",
              "          element.innerHTML = '';\n",
              "          dataTable['output_type'] = 'display_data';\n",
              "          await google.colab.output.renderOutput(dataTable, element);\n",
              "          const docLink = document.createElement('div');\n",
              "          docLink.innerHTML = docLinkHtml;\n",
              "          element.appendChild(docLink);\n",
              "        }\n",
              "      </script>\n",
              "    </div>\n",
              "  </div>\n",
              "  "
            ]
          },
          "metadata": {},
          "execution_count": 129
        }
      ],
      "source": [
        "pd.DataFrame(rs_reg_log.cv_results_).head()"
      ],
      "id": "6c0b4de4"
    },
    {
      "cell_type": "code",
      "execution_count": 130,
      "metadata": {
        "colab": {
          "base_uri": "https://localhost:8080/"
        },
        "id": "df93c20b",
        "outputId": "b1f9cbd2-5e0c-4ef0-ca2b-4bb0244baaca"
      },
      "outputs": [
        {
          "output_type": "stream",
          "name": "stdout",
          "text": [
            "El mejor estimador es LogisticRegression(C=1000, penalty='l1', solver='saga')\n",
            "El mejor score de recall obtenido es de  0.6836497493047367\n",
            "Los mejores parámetros para el modelo son  {'solver': 'saga', 'penalty': 'l1', 'C': 1000}\n"
          ]
        }
      ],
      "source": [
        "print('El mejor estimador es', rs_reg_log.best_estimator_)\n",
        "print('El mejor score de recall obtenido es de ', rs_reg_log.best_score_)\n",
        "print('Los mejores parámetros para el modelo son ', rs_reg_log.best_params_)"
      ],
      "id": "df93c20b"
    },
    {
      "cell_type": "code",
      "execution_count": 131,
      "metadata": {
        "colab": {
          "base_uri": "https://localhost:8080/",
          "height": 314
        },
        "id": "4a8eb64f",
        "outputId": "7fb26c23-17bc-47c6-87d0-3cc98ac86441"
      },
      "outputs": [
        {
          "output_type": "stream",
          "name": "stdout",
          "text": [
            "Accuracy en train = 0.6905178571428572\n",
            "Recall en train = 0.6786223616657159\n"
          ]
        },
        {
          "output_type": "display_data",
          "data": {
            "text/plain": [
              "<Figure size 432x288 with 2 Axes>"
            ],
            "image/png": "[encoded data removed]"
          },
          "metadata": {
            "needs_background": "light"
          }
        }
      ],
      "source": [
        "y_pred_reg_log_train = rs_reg_log.predict(X_train)\n",
        "\n",
        "# Graficamos la matriz de confusión en train \n",
        "sns.heatmap(confusion_matrix(y_train, y_pred_reg_log_train), annot=True, fmt='.0f')\n",
        "plt.ylabel('Etiquetas reales/verdaderas')\n",
        "plt.xlabel('Etiquetas predichas');\n",
        "\n",
        "print('Accuracy en train =', accuracy_score(y_train, y_pred_reg_log_train))\n",
        "print('Recall en train =', recall_score(y_train, y_pred_reg_log_train))"
      ],
      "id": "4a8eb64f"
    },
    {
      "cell_type": "code",
      "execution_count": 132,
      "metadata": {
        "colab": {
          "base_uri": "https://localhost:8080/",
          "height": 316
        },
        "id": "4882a4b7",
        "outputId": "0b77d2f0-d50a-4930-8058-9de6c01070be"
      },
      "outputs": [
        {
          "output_type": "stream",
          "name": "stdout",
          "text": [
            "Accuracy en test = 0.6920714285714286\n",
            "Recall en test = 0.6719088154667436\n"
          ]
        },
        {
          "output_type": "display_data",
          "data": {
            "text/plain": [
              "<Figure size 432x288 with 2 Axes>"
            ],
            "image/png": "[encoded data removed]"
          },
          "metadata": {
            "needs_background": "light"
          }
        }
      ],
      "source": [
        "y_pred_reg_log = rs_reg_log.predict(X_test)\n",
        "\n",
        "# Graficamos la matriz de confusión en train \n",
        "sns.heatmap(confusion_matrix(y_test, y_pred_reg_log), annot=True, fmt='.0f')\n",
        "plt.ylabel('Etiquetas reales')\n",
        "plt.xlabel('Etiquetas predichas');\n",
        "\n",
        "print('Accuracy en test =', accuracy_score(y_test, y_pred_reg_log))\n",
        "print('Recall en test =', recall_score(y_test, y_pred_reg_log))"
      ],
      "id": "4882a4b7"
    },
    {
      "cell_type": "markdown",
      "metadata": {
        "id": "CaLK0iw-W4Lq"
      },
      "source": [
        "## TRAIN TEST con Variables nuevas, y creación de Dummies"
      ],
      "id": "CaLK0iw-W4Lq"
    },
    {
      "cell_type": "code",
      "execution_count": 133,
      "metadata": {
        "id": "b24b95ea"
      },
      "outputs": [],
      "source": [
        "# #Dummies: crear las dummies con estos codigos comentados solo resta en la performance del modelo\n",
        "\n",
        "# #Creación de una dummie para \"clas_IMC\", \"grado_presion\".\n",
        "\n",
        "# categoricals = [\"clas_IMC\", \"grado_presion\"]\n",
        "# X_categ = data[categoricals]\n",
        "\n",
        "# # #instanciar en el OneHotEncoder\n",
        "# one_enc = OneHotEncoder(drop = 'first')\n",
        "\n",
        "# # #fiteamos con X_categ (esto lo que hace es aprender todas las categorías posibles)\n",
        "# one_enc.fit(X_categ)\n",
        "# one_enc.categories_"
      ],
      "id": "b24b95ea"
    },
    {
      "cell_type": "code",
      "execution_count": 134,
      "metadata": {
        "id": "c398eb2b"
      },
      "outputs": [],
      "source": [
        "# #Generamos el dataframe de dummies\n",
        "# dummies = one_enc.transform(X_categ).toarray()\n",
        "# dummies_df = pd.DataFrame(dummies)\n",
        "# dummies_df"
      ],
      "id": "c398eb2b"
    },
    {
      "cell_type": "code",
      "execution_count": 135,
      "metadata": {
        "id": "46cf4599"
      },
      "outputs": [],
      "source": [
        "\n",
        "# # #Generamos los nombres de las columnas para despues ponerlos en el datadrame\n",
        "# colum_names = [categoricals[i] + '_' + one_enc.categories_[i] for i in range(len(categoricals)) ]\n",
        "# col_names_drop_first = [sublist[i] for sublist in colum_names for i in range(len(sublist)) if i != 0]\n",
        "\n",
        "# # #Renombramos las columnas en el dataframe de dummies\n",
        "# dummies_df.columns = col_names_drop_first\n",
        "# dummies_df"
      ],
      "id": "46cf4599"
    },
    {
      "cell_type": "code",
      "execution_count": 136,
      "metadata": {
        "id": "8f01b3c3"
      },
      "outputs": [],
      "source": [
        "# data = pd.concat([data, dummies_df], axis=1)\n",
        "# data.head(5)"
      ],
      "id": "8f01b3c3"
    },
    {
      "cell_type": "code",
      "execution_count": 137,
      "metadata": {
        "colab": {
          "base_uri": "https://localhost:8080/",
          "height": 540
        },
        "id": "KvGXVgPtXxWz",
        "outputId": "954d8d4b-9347-4e84-ba7f-08f017ee7475"
      },
      "outputs": [
        {
          "output_type": "execute_result",
          "data": {
            "text/plain": [
              "          id    age  gender  height  weight  ap_hi  ap_lo  cholesterol  gluc  \\\n",
              "0          0  18393       2     168    62.0    110     80            1     1   \n",
              "1          1  20228       1     156    85.0    140     90            3     1   \n",
              "2          2  18857       1     165    64.0    130     70            3     1   \n",
              "3          3  17623       2     169    82.0    150    100            1     1   \n",
              "4          4  17474       1     156    56.0    100     60            1     1   \n",
              "...      ...    ...     ...     ...     ...    ...    ...          ...   ...   \n",
              "69995  99993  19240       2     168    76.0    120     80            1     1   \n",
              "69996  99995  22601       1     158   126.0    140     90            2     2   \n",
              "69997  99996  19066       2     183   105.0    180     90            3     1   \n",
              "69998  99998  22431       1     163    72.0    135     80            1     2   \n",
              "69999  99999  20540       1     170    72.0    120     80            2     1   \n",
              "\n",
              "       smoke  alco  active  cardio   IMC           clas_IMC  clas_nivel_IMC  \\\n",
              "0          0     0       1       0  22.0             Normal               0   \n",
              "1          0     0       1       1  34.9  Obesidad Moderada               1   \n",
              "2          0     0       0       1  23.5             Normal               0   \n",
              "3          0     0       1       1  28.7             Normal               0   \n",
              "4          0     0       0       0  23.0             Normal               0   \n",
              "...      ...   ...     ...     ...   ...                ...             ...   \n",
              "69995      1     0       1       0  26.9             Normal               0   \n",
              "69996      0     0       1       1  50.5   Obesidad Morbida               3   \n",
              "69997      0     1       0       1  31.4  Obesidad Moderada               1   \n",
              "69998      0     0       0       1  27.1             Normal               0   \n",
              "69999      0     0       1       0  24.9             Normal               0   \n",
              "\n",
              "      grado_presion  grado_nivel_presion  age_years  \n",
              "0            Normal                    0         50  \n",
              "1      Hipertension                    2         55  \n",
              "2           Elevado                    1         51  \n",
              "3      Hipertension                    2         48  \n",
              "4            Normal                    0         47  \n",
              "...             ...                  ...        ...  \n",
              "69995        Normal                    0         52  \n",
              "69996  Hipertension                    2         61  \n",
              "69997  Hipertension                    2         52  \n",
              "69998       Elevado                    1         61  \n",
              "69999        Normal                    0         56  \n",
              "\n",
              "[70000 rows x 19 columns]"
            ],
            "text/html": [
              "\n",
              "  <div id=\"df-b30efce8-f404-4913-8a91-21cb0f049665\">\n",
              "    <div class=\"colab-df-container\">\n",
              "      <div>\n",
              "<style scoped>\n",
              "    .dataframe tbody tr th:only-of-type {\n",
              "        vertical-align: middle;\n",
              "    }\n",
              "\n",
              "    .dataframe tbody tr th {\n",
              "        vertical-align: top;\n",
              "    }\n",
              "\n",
              "    .dataframe thead th {\n",
              "        text-align: right;\n",
              "    }\n",
              "</style>\n",
              "<table border=\"1\" class=\"dataframe\">\n",
              "  <thead>\n",
              "    <tr style=\"text-align: right;\">\n",
              "      <th></th>\n",
              "      <th>id</th>\n",
              "      <th>age</th>\n",
              "      <th>gender</th>\n",
              "      <th>height</th>\n",
              "      <th>weight</th>\n",
              "      <th>ap_hi</th>\n",
              "      <th>ap_lo</th>\n",
              "      <th>cholesterol</th>\n",
              "      <th>gluc</th>\n",
              "      <th>smoke</th>\n",
              "      <th>alco</th>\n",
              "      <th>active</th>\n",
              "      <th>cardio</th>\n",
              "      <th>IMC</th>\n",
              "      <th>clas_IMC</th>\n",
              "      <th>clas_nivel_IMC</th>\n",
              "      <th>grado_presion</th>\n",
              "      <th>grado_nivel_presion</th>\n",
              "      <th>age_years</th>\n",
              "    </tr>\n",
              "  </thead>\n",
              "  <tbody>\n",
              "    <tr>\n",
              "      <th>0</th>\n",
              "      <td>0</td>\n",
              "      <td>18393</td>\n",
              "      <td>2</td>\n",
              "      <td>168</td>\n",
              "      <td>62.0</td>\n",
              "      <td>110</td>\n",
              "      <td>80</td>\n",
              "      <td>1</td>\n",
              "      <td>1</td>\n",
              "      <td>0</td>\n",
              "      <td>0</td>\n",
              "      <td>1</td>\n",
              "      <td>0</td>\n",
              "      <td>22.0</td>\n",
              "      <td>Normal</td>\n",
              "      <td>0</td>\n",
              "      <td>Normal</td>\n",
              "      <td>0</td>\n",
              "      <td>50</td>\n",
              "    </tr>\n",
              "    <tr>\n",
              "      <th>1</th>\n",
              "      <td>1</td>\n",
              "      <td>20228</td>\n",
              "      <td>1</td>\n",
              "      <td>156</td>\n",
              "      <td>85.0</td>\n",
              "      <td>140</td>\n",
              "      <td>90</td>\n",
              "      <td>3</td>\n",
              "      <td>1</td>\n",
              "      <td>0</td>\n",
              "      <td>0</td>\n",
              "      <td>1</td>\n",
              "      <td>1</td>\n",
              "      <td>34.9</td>\n",
              "      <td>Obesidad Moderada</td>\n",
              "      <td>1</td>\n",
              "      <td>Hipertension</td>\n",
              "      <td>2</td>\n",
              "      <td>55</td>\n",
              "    </tr>\n",
              "    <tr>\n",
              "      <th>2</th>\n",
              "      <td>2</td>\n",
              "      <td>18857</td>\n",
              "      <td>1</td>\n",
              "      <td>165</td>\n",
              "      <td>64.0</td>\n",
              "      <td>130</td>\n",
              "      <td>70</td>\n",
              "      <td>3</td>\n",
              "      <td>1</td>\n",
              "      <td>0</td>\n",
              "      <td>0</td>\n",
              "      <td>0</td>\n",
              "      <td>1</td>\n",
              "      <td>23.5</td>\n",
              "      <td>Normal</td>\n",
              "      <td>0</td>\n",
              "      <td>Elevado</td>\n",
              "      <td>1</td>\n",
              "      <td>51</td>\n",
              "    </tr>\n",
              "    <tr>\n",
              "      <th>3</th>\n",
              "      <td>3</td>\n",
              "      <td>17623</td>\n",
              "      <td>2</td>\n",
              "      <td>169</td>\n",
              "      <td>82.0</td>\n",
              "      <td>150</td>\n",
              "      <td>100</td>\n",
              "      <td>1</td>\n",
              "      <td>1</td>\n",
              "      <td>0</td>\n",
              "      <td>0</td>\n",
              "      <td>1</td>\n",
              "      <td>1</td>\n",
              "      <td>28.7</td>\n",
              "      <td>Normal</td>\n",
              "      <td>0</td>\n",
              "      <td>Hipertension</td>\n",
              "      <td>2</td>\n",
              "      <td>48</td>\n",
              "    </tr>\n",
              "    <tr>\n",
              "      <th>4</th>\n",
              "      <td>4</td>\n",
              "      <td>17474</td>\n",
              "      <td>1</td>\n",
              "      <td>156</td>\n",
              "      <td>56.0</td>\n",
              "      <td>100</td>\n",
              "      <td>60</td>\n",
              "      <td>1</td>\n",
              "      <td>1</td>\n",
              "      <td>0</td>\n",
              "      <td>0</td>\n",
              "      <td>0</td>\n",
              "      <td>0</td>\n",
              "      <td>23.0</td>\n",
              "      <td>Normal</td>\n",
              "      <td>0</td>\n",
              "      <td>Normal</td>\n",
              "      <td>0</td>\n",
              "      <td>47</td>\n",
              "    </tr>\n",
              "    <tr>\n",
              "      <th>...</th>\n",
              "      <td>...</td>\n",
              "      <td>...</td>\n",
              "      <td>...</td>\n",
              "      <td>...</td>\n",
              "      <td>...</td>\n",
              "      <td>...</td>\n",
              "      <td>...</td>\n",
              "      <td>...</td>\n",
              "      <td>...</td>\n",
              "      <td>...</td>\n",
              "      <td>...</td>\n",
              "      <td>...</td>\n",
              "      <td>...</td>\n",
              "      <td>...</td>\n",
              "      <td>...</td>\n",
              "      <td>...</td>\n",
              "      <td>...</td>\n",
              "      <td>...</td>\n",
              "      <td>...</td>\n",
              "    </tr>\n",
              "    <tr>\n",
              "      <th>69995</th>\n",
              "      <td>99993</td>\n",
              "      <td>19240</td>\n",
              "      <td>2</td>\n",
              "      <td>168</td>\n",
              "      <td>76.0</td>\n",
              "      <td>120</td>\n",
              "      <td>80</td>\n",
              "      <td>1</td>\n",
              "      <td>1</td>\n",
              "      <td>1</td>\n",
              "      <td>0</td>\n",
              "      <td>1</td>\n",
              "      <td>0</td>\n",
              "      <td>26.9</td>\n",
              "      <td>Normal</td>\n",
              "      <td>0</td>\n",
              "      <td>Normal</td>\n",
              "      <td>0</td>\n",
              "      <td>52</td>\n",
              "    </tr>\n",
              "    <tr>\n",
              "      <th>69996</th>\n",
              "      <td>99995</td>\n",
              "      <td>22601</td>\n",
              "      <td>1</td>\n",
              "      <td>158</td>\n",
              "      <td>126.0</td>\n",
              "      <td>140</td>\n",
              "      <td>90</td>\n",
              "      <td>2</td>\n",
              "      <td>2</td>\n",
              "      <td>0</td>\n",
              "      <td>0</td>\n",
              "      <td>1</td>\n",
              "      <td>1</td>\n",
              "      <td>50.5</td>\n",
              "      <td>Obesidad Morbida</td>\n",
              "      <td>3</td>\n",
              "      <td>Hipertension</td>\n",
              "      <td>2</td>\n",
              "      <td>61</td>\n",
              "    </tr>\n",
              "    <tr>\n",
              "      <th>69997</th>\n",
              "      <td>99996</td>\n",
              "      <td>19066</td>\n",
              "      <td>2</td>\n",
              "      <td>183</td>\n",
              "      <td>105.0</td>\n",
              "      <td>180</td>\n",
              "      <td>90</td>\n",
              "      <td>3</td>\n",
              "      <td>1</td>\n",
              "      <td>0</td>\n",
              "      <td>1</td>\n",
              "      <td>0</td>\n",
              "      <td>1</td>\n",
              "      <td>31.4</td>\n",
              "      <td>Obesidad Moderada</td>\n",
              "      <td>1</td>\n",
              "      <td>Hipertension</td>\n",
              "      <td>2</td>\n",
              "      <td>52</td>\n",
              "    </tr>\n",
              "    <tr>\n",
              "      <th>69998</th>\n",
              "      <td>99998</td>\n",
              "      <td>22431</td>\n",
              "      <td>1</td>\n",
              "      <td>163</td>\n",
              "      <td>72.0</td>\n",
              "      <td>135</td>\n",
              "      <td>80</td>\n",
              "      <td>1</td>\n",
              "      <td>2</td>\n",
              "      <td>0</td>\n",
              "      <td>0</td>\n",
              "      <td>0</td>\n",
              "      <td>1</td>\n",
              "      <td>27.1</td>\n",
              "      <td>Normal</td>\n",
              "      <td>0</td>\n",
              "      <td>Elevado</td>\n",
              "      <td>1</td>\n",
              "      <td>61</td>\n",
              "    </tr>\n",
              "    <tr>\n",
              "      <th>69999</th>\n",
              "      <td>99999</td>\n",
              "      <td>20540</td>\n",
              "      <td>1</td>\n",
              "      <td>170</td>\n",
              "      <td>72.0</td>\n",
              "      <td>120</td>\n",
              "      <td>80</td>\n",
              "      <td>2</td>\n",
              "      <td>1</td>\n",
              "      <td>0</td>\n",
              "      <td>0</td>\n",
              "      <td>1</td>\n",
              "      <td>0</td>\n",
              "      <td>24.9</td>\n",
              "      <td>Normal</td>\n",
              "      <td>0</td>\n",
              "      <td>Normal</td>\n",
              "      <td>0</td>\n",
              "      <td>56</td>\n",
              "    </tr>\n",
              "  </tbody>\n",
              "</table>\n",
              "<p>70000 rows × 19 columns</p>\n",
              "</div>\n",
              "      <button class=\"colab-df-convert\" onclick=\"convertToInteractive('df-b30efce8-f404-4913-8a91-21cb0f049665')\"\n",
              "              title=\"Convert this dataframe to an interactive table.\"\n",
              "              style=\"display:none;\">\n",
              "        \n",
              "  <svg xmlns=\"http://www.w3.org/2000/svg\" height=\"24px\"viewBox=\"0 0 24 24\"\n",
              "       width=\"24px\">\n",
              "    <path d=\"M0 0h24v24H0V0z\" fill=\"none\"/>\n",
              "    <path d=\"M18.56 5.44l.94 2.06.94-2.06 2.06-.94-2.06-.94-.94-2.06-.94 2.06-2.06.94zm-11 1L8.5 8.5l.94-2.06 2.06-.94-2.06-.94L8.5 2.5l-.94 2.06-2.06.94zm10 10l.94 2.06.94-2.06 2.06-.94-2.06-.94-.94-2.06-.94 2.06-2.06.94z\"/><path d=\"M17.41 7.96l-1.37-1.37c-.4-.4-.92-.59-1.43-.59-.52 0-1.04.2-1.43.59L10.3 9.45l-7.72 7.72c-.78.78-.78 2.05 0 2.83L4 21.41c.39.39.9.59 1.41.59.51 0 1.02-.2 1.41-.59l7.78-7.78 2.81-2.81c.8-.78.8-2.07 0-2.86zM5.41 20L4 18.59l7.72-7.72 1.47 1.35L5.41 20z\"/>\n",
              "  </svg>\n",
              "      </button>\n",
              "      \n",
              "  <style>\n",
              "    .colab-df-container {\n",
              "      display:flex;\n",
              "      flex-wrap:wrap;\n",
              "      gap: 12px;\n",
              "    }\n",
              "\n",
              "    .colab-df-convert {\n",
              "      background-color: #E8F0FE;\n",
              "      border: none;\n",
              "      border-radius: 50%;\n",
              "      cursor: pointer;\n",
              "      display: none;\n",
              "      fill: #1967D2;\n",
              "      height: 32px;\n",
              "      padding: 0 0 0 0;\n",
              "      width: 32px;\n",
              "    }\n",
              "\n",
              "    .colab-df-convert:hover {\n",
              "      background-color: #E2EBFA;\n",
              "      box-shadow: 0px 1px 2px rgba(60, 64, 67, 0.3), 0px 1px 3px 1px rgba(60, 64, 67, 0.15);\n",
              "      fill: #174EA6;\n",
              "    }\n",
              "\n",
              "    [theme=dark] .colab-df-convert {\n",
              "      background-color: #3B4455;\n",
              "      fill: #D2E3FC;\n",
              "    }\n",
              "\n",
              "    [theme=dark] .colab-df-convert:hover {\n",
              "      background-color: #434B5C;\n",
              "      box-shadow: 0px 1px 3px 1px rgba(0, 0, 0, 0.15);\n",
              "      filter: drop-shadow(0px 1px 2px rgba(0, 0, 0, 0.3));\n",
              "      fill: #FFFFFF;\n",
              "    }\n",
              "  </style>\n",
              "\n",
              "      <script>\n",
              "        const buttonEl =\n",
              "          document.querySelector('#df-b30efce8-f404-4913-8a91-21cb0f049665 button.colab-df-convert');\n",
              "        buttonEl.style.display =\n",
              "          google.colab.kernel.accessAllowed ? 'block' : 'none';\n",
              "\n",
              "        async function convertToInteractive(key) {\n",
              "          const element = document.querySelector('#df-b30efce8-f404-4913-8a91-21cb0f049665');\n",
              "          const dataTable =\n",
              "            await google.colab.kernel.invokeFunction('convertToInteractive',\n",
              "                                                     [key], {});\n",
              "          if (!dataTable) return;\n",
              "\n",
              "          const docLinkHtml = 'Like what you see? Visit the ' +\n",
              "            '<a target=\"_blank\" href=https://colab.research.google.com/notebooks/data_table.ipynb>data table notebook</a>'\n",
              "            + ' to learn more about interactive tables.';\n",
              "          element.innerHTML = '';\n",
              "          dataTable['output_type'] = 'display_data';\n",
              "          await google.colab.output.renderOutput(dataTable, element);\n",
              "          const docLink = document.createElement('div');\n",
              "          docLink.innerHTML = docLinkHtml;\n",
              "          element.appendChild(docLink);\n",
              "        }\n",
              "      </script>\n",
              "    </div>\n",
              "  </div>\n",
              "  "
            ]
          },
          "metadata": {},
          "execution_count": 137
        }
      ],
      "source": [
        "data"
      ],
      "id": "KvGXVgPtXxWz"
    },
    {
      "cell_type": "code",
      "execution_count": 138,
      "metadata": {
        "id": "Wh6Z80InYl9M"
      },
      "outputs": [],
      "source": [
        "X = data.drop([\"cardio\", \"id\", 'clas_IMC', \"grado_presion\", \"age\"], axis=1)\n",
        "y = data[\"cardio\"]\n"
      ],
      "id": "Wh6Z80InYl9M"
    },
    {
      "cell_type": "code",
      "execution_count": 139,
      "metadata": {
        "id": "2wl7XeIGYruK"
      },
      "outputs": [],
      "source": [
        "X_train, X_test, y_train, y_test = train_test_split(X, y,test_size=0.2,random_state=0)"
      ],
      "id": "2wl7XeIGYruK"
    },
    {
      "cell_type": "code",
      "execution_count": 140,
      "metadata": {
        "colab": {
          "base_uri": "https://localhost:8080/",
          "height": 1000
        },
        "id": "YQ7nJOMwYrxf",
        "outputId": "2425f675-38b5-411c-ea11-17282e899f0d"
      },
      "outputs": [
        {
          "output_type": "stream",
          "name": "stderr",
          "text": [
            "/usr/local/lib/python3.8/dist-packages/sklearn/model_selection/_validation.py:372: FitFailedWarning: \n",
            "25 fits failed out of a total of 50.\n",
            "The score on these train-test partitions for these parameters will be set to nan.\n",
            "If these failures are not expected, you can try to debug them by setting error_score='raise'.\n",
            "\n",
            "Below are more details about the failures:\n",
            "--------------------------------------------------------------------------------\n",
            "10 fits failed with the following error:\n",
            "Traceback (most recent call last):\n",
            "  File \"/usr/local/lib/python3.8/dist-packages/sklearn/model_selection/_validation.py\", line 680, in _fit_and_score\n",
            "    estimator.fit(X_train, y_train, **fit_params)\n",
            "  File \"/usr/local/lib/python3.8/dist-packages/sklearn/linear_model/_logistic.py\", line 1461, in fit\n",
            "    solver = _check_solver(self.solver, self.penalty, self.dual)\n",
            "  File \"/usr/local/lib/python3.8/dist-packages/sklearn/linear_model/_logistic.py\", line 457, in _check_solver\n",
            "    raise ValueError(\n",
            "ValueError: Only 'saga' solver supports elasticnet penalty, got solver=liblinear.\n",
            "\n",
            "--------------------------------------------------------------------------------\n",
            "5 fits failed with the following error:\n",
            "Traceback (most recent call last):\n",
            "  File \"/usr/local/lib/python3.8/dist-packages/sklearn/model_selection/_validation.py\", line 680, in _fit_and_score\n",
            "    estimator.fit(X_train, y_train, **fit_params)\n",
            "  File \"/usr/local/lib/python3.8/dist-packages/sklearn/linear_model/_logistic.py\", line 1471, in fit\n",
            "    raise ValueError(\n",
            "ValueError: l1_ratio must be between 0 and 1; got (l1_ratio=None)\n",
            "\n",
            "--------------------------------------------------------------------------------\n",
            "5 fits failed with the following error:\n",
            "Traceback (most recent call last):\n",
            "  File \"/usr/local/lib/python3.8/dist-packages/sklearn/model_selection/_validation.py\", line 680, in _fit_and_score\n",
            "    estimator.fit(X_train, y_train, **fit_params)\n",
            "  File \"/usr/local/lib/python3.8/dist-packages/sklearn/linear_model/_logistic.py\", line 1461, in fit\n",
            "    solver = _check_solver(self.solver, self.penalty, self.dual)\n",
            "  File \"/usr/local/lib/python3.8/dist-packages/sklearn/linear_model/_logistic.py\", line 447, in _check_solver\n",
            "    raise ValueError(\n",
            "ValueError: Solver newton-cg supports only 'l2' or 'none' penalties, got elasticnet penalty.\n",
            "\n",
            "--------------------------------------------------------------------------------\n",
            "5 fits failed with the following error:\n",
            "Traceback (most recent call last):\n",
            "  File \"/usr/local/lib/python3.8/dist-packages/sklearn/model_selection/_validation.py\", line 680, in _fit_and_score\n",
            "    estimator.fit(X_train, y_train, **fit_params)\n",
            "  File \"/usr/local/lib/python3.8/dist-packages/sklearn/linear_model/_logistic.py\", line 1461, in fit\n",
            "    solver = _check_solver(self.solver, self.penalty, self.dual)\n",
            "  File \"/usr/local/lib/python3.8/dist-packages/sklearn/linear_model/_logistic.py\", line 447, in _check_solver\n",
            "    raise ValueError(\n",
            "ValueError: Solver sag supports only 'l2' or 'none' penalties, got l1 penalty.\n",
            "\n",
            "  warnings.warn(some_fits_failed_message, FitFailedWarning)\n",
            "/usr/local/lib/python3.8/dist-packages/sklearn/model_selection/_search.py:969: UserWarning: One or more of the test scores are non-finite: [       nan        nan 0.64853143 0.66575186        nan 0.66699957\n",
            " 0.65298815        nan        nan 0.66596574]\n",
            "  warnings.warn(\n",
            "/usr/local/lib/python3.8/dist-packages/sklearn/linear_model/_logistic.py:814: ConvergenceWarning: lbfgs failed to converge (status=1):\n",
            "STOP: TOTAL NO. of ITERATIONS REACHED LIMIT.\n",
            "\n",
            "Increase the number of iterations (max_iter) or scale the data as shown in:\n",
            "    https://scikit-learn.org/stable/modules/preprocessing.html\n",
            "Please also refer to the documentation for alternative solver options:\n",
            "    https://scikit-learn.org/stable/modules/linear_model.html#logistic-regression\n",
            "  n_iter_i = _check_optimize_result(\n"
          ]
        },
        {
          "output_type": "stream",
          "name": "stdout",
          "text": [
            "Accuracy en test = 0.7177857142857142\n",
            "Recall en test = 0.6521425479728755\n"
          ]
        },
        {
          "output_type": "display_data",
          "data": {
            "text/plain": [
              "<Figure size 432x288 with 2 Axes>"
            ],
            "image/png": "[encoded data removed]"
          },
          "metadata": {
            "needs_background": "light"
          }
        }
      ],
      "source": [
        "logistic_regression = LogisticRegression()\n",
        "folds=StratifiedKFold(n_splits=5, random_state=12, shuffle=True)\n",
        "params_reg_log = {'C': [1, 10, 100, 1000],\n",
        "                    'penalty': ['l1', 'l2', 'elasticnet'],\n",
        "                     'solver': ['saga','newton-cg', 'lbfgs', 'liblinear', 'sag']}\n",
        "\n",
        "rs_reg_log = RandomizedSearchCV(estimator=logistic_regression, param_distributions=params_reg_log, scoring='recall', cv=folds, n_jobs=4, random_state=12)\n",
        "rs_reg_log.fit(X_train, y_train)\n",
        "\n",
        "y_pred_reg_log = rs_reg_log.predict(X_test)\n",
        "\n",
        "# Graficamos la matriz de confusión en train \n",
        "sns.heatmap(confusion_matrix(y_test, y_pred_reg_log), annot=True, fmt='.0f')\n",
        "plt.ylabel('Etiquetas reales')\n",
        "plt.xlabel('Etiquetas predichas');\n",
        "\n",
        "print('Accuracy en test =', accuracy_score(y_test, y_pred_reg_log))\n",
        "print('Recall en test =', recall_score(y_test, y_pred_reg_log))"
      ],
      "id": "YQ7nJOMwYrxf"
    },
    {
      "cell_type": "code",
      "execution_count": 141,
      "metadata": {
        "colab": {
          "base_uri": "https://localhost:8080/"
        },
        "id": "lohkZFduZVmn",
        "outputId": "5619593e-4449-44d2-b9a7-9332401c736e"
      },
      "outputs": [
        {
          "output_type": "stream",
          "name": "stdout",
          "text": [
            "El mejor estimador es LogisticRegression(C=1)\n",
            "El mejor score de recall obtenido es de  0.6669995731967563\n",
            "Los mejores parámetros para el modelo son  {'solver': 'lbfgs', 'penalty': 'l2', 'C': 1}\n"
          ]
        }
      ],
      "source": [
        "print('El mejor estimador es', rs_reg_log.best_estimator_)\n",
        "print('El mejor score de recall obtenido es de ', rs_reg_log.best_score_)\n",
        "print('Los mejores parámetros para el modelo son ', rs_reg_log.best_params_)"
      ],
      "id": "lohkZFduZVmn"
    },
    {
      "cell_type": "markdown",
      "metadata": {
        "id": "BGCl77YGZfx8"
      },
      "source": [
        "## Dropear los que estan en niveles y solo probar dummies"
      ],
      "id": "BGCl77YGZfx8"
    },
    {
      "cell_type": "code",
      "execution_count": 142,
      "metadata": {
        "id": "V6nnIcRkZoOs"
      },
      "outputs": [],
      "source": [
        "X = data.drop([\"cardio\", \"id\", 'clas_IMC', \"grado_presion\", \"grado_nivel_presion\", \"clas_nivel_IMC\", \"age\"], axis=1)\n",
        "y = data[\"cardio\"]"
      ],
      "id": "V6nnIcRkZoOs"
    },
    {
      "cell_type": "code",
      "execution_count": 143,
      "metadata": {
        "id": "gaF6bBJ_32q6",
        "colab": {
          "base_uri": "https://localhost:8080/",
          "height": 424
        },
        "outputId": "9b7a20e1-028e-4abf-a649-59d9569369f3"
      },
      "outputs": [
        {
          "output_type": "execute_result",
          "data": {
            "text/plain": [
              "       gender  height  weight  ap_hi  ap_lo  cholesterol  gluc  smoke  alco  \\\n",
              "0           2     168    62.0    110     80            1     1      0     0   \n",
              "1           1     156    85.0    140     90            3     1      0     0   \n",
              "2           1     165    64.0    130     70            3     1      0     0   \n",
              "3           2     169    82.0    150    100            1     1      0     0   \n",
              "4           1     156    56.0    100     60            1     1      0     0   \n",
              "...       ...     ...     ...    ...    ...          ...   ...    ...   ...   \n",
              "69995       2     168    76.0    120     80            1     1      1     0   \n",
              "69996       1     158   126.0    140     90            2     2      0     0   \n",
              "69997       2     183   105.0    180     90            3     1      0     1   \n",
              "69998       1     163    72.0    135     80            1     2      0     0   \n",
              "69999       1     170    72.0    120     80            2     1      0     0   \n",
              "\n",
              "       active   IMC  age_years  \n",
              "0           1  22.0         50  \n",
              "1           1  34.9         55  \n",
              "2           0  23.5         51  \n",
              "3           1  28.7         48  \n",
              "4           0  23.0         47  \n",
              "...       ...   ...        ...  \n",
              "69995       1  26.9         52  \n",
              "69996       1  50.5         61  \n",
              "69997       0  31.4         52  \n",
              "69998       0  27.1         61  \n",
              "69999       1  24.9         56  \n",
              "\n",
              "[70000 rows x 12 columns]"
            ],
            "text/html": [
              "\n",
              "  <div id=\"df-c9815886-c654-4562-a1df-6c59a3c76f2e\">\n",
              "    <div class=\"colab-df-container\">\n",
              "      <div>\n",
              "<style scoped>\n",
              "    .dataframe tbody tr th:only-of-type {\n",
              "        vertical-align: middle;\n",
              "    }\n",
              "\n",
              "    .dataframe tbody tr th {\n",
              "        vertical-align: top;\n",
              "    }\n",
              "\n",
              "    .dataframe thead th {\n",
              "        text-align: right;\n",
              "    }\n",
              "</style>\n",
              "<table border=\"1\" class=\"dataframe\">\n",
              "  <thead>\n",
              "    <tr style=\"text-align: right;\">\n",
              "      <th></th>\n",
              "      <th>gender</th>\n",
              "      <th>height</th>\n",
              "      <th>weight</th>\n",
              "      <th>ap_hi</th>\n",
              "      <th>ap_lo</th>\n",
              "      <th>cholesterol</th>\n",
              "      <th>gluc</th>\n",
              "      <th>smoke</th>\n",
              "      <th>alco</th>\n",
              "      <th>active</th>\n",
              "      <th>IMC</th>\n",
              "      <th>age_years</th>\n",
              "    </tr>\n",
              "  </thead>\n",
              "  <tbody>\n",
              "    <tr>\n",
              "      <th>0</th>\n",
              "      <td>2</td>\n",
              "      <td>168</td>\n",
              "      <td>62.0</td>\n",
              "      <td>110</td>\n",
              "      <td>80</td>\n",
              "      <td>1</td>\n",
              "      <td>1</td>\n",
              "      <td>0</td>\n",
              "      <td>0</td>\n",
              "      <td>1</td>\n",
              "      <td>22.0</td>\n",
              "      <td>50</td>\n",
              "    </tr>\n",
              "    <tr>\n",
              "      <th>1</th>\n",
              "      <td>1</td>\n",
              "      <td>156</td>\n",
              "      <td>85.0</td>\n",
              "      <td>140</td>\n",
              "      <td>90</td>\n",
              "      <td>3</td>\n",
              "      <td>1</td>\n",
              "      <td>0</td>\n",
              "      <td>0</td>\n",
              "      <td>1</td>\n",
              "      <td>34.9</td>\n",
              "      <td>55</td>\n",
              "    </tr>\n",
              "    <tr>\n",
              "      <th>2</th>\n",
              "      <td>1</td>\n",
              "      <td>165</td>\n",
              "      <td>64.0</td>\n",
              "      <td>130</td>\n",
              "      <td>70</td>\n",
              "      <td>3</td>\n",
              "      <td>1</td>\n",
              "      <td>0</td>\n",
              "      <td>0</td>\n",
              "      <td>0</td>\n",
              "      <td>23.5</td>\n",
              "      <td>51</td>\n",
              "    </tr>\n",
              "    <tr>\n",
              "      <th>3</th>\n",
              "      <td>2</td>\n",
              "      <td>169</td>\n",
              "      <td>82.0</td>\n",
              "      <td>150</td>\n",
              "      <td>100</td>\n",
              "      <td>1</td>\n",
              "      <td>1</td>\n",
              "      <td>0</td>\n",
              "      <td>0</td>\n",
              "      <td>1</td>\n",
              "      <td>28.7</td>\n",
              "      <td>48</td>\n",
              "    </tr>\n",
              "    <tr>\n",
              "      <th>4</th>\n",
              "      <td>1</td>\n",
              "      <td>156</td>\n",
              "      <td>56.0</td>\n",
              "      <td>100</td>\n",
              "      <td>60</td>\n",
              "      <td>1</td>\n",
              "      <td>1</td>\n",
              "      <td>0</td>\n",
              "      <td>0</td>\n",
              "      <td>0</td>\n",
              "      <td>23.0</td>\n",
              "      <td>47</td>\n",
              "    </tr>\n",
              "    <tr>\n",
              "      <th>...</th>\n",
              "      <td>...</td>\n",
              "      <td>...</td>\n",
              "      <td>...</td>\n",
              "      <td>...</td>\n",
              "      <td>...</td>\n",
              "      <td>...</td>\n",
              "      <td>...</td>\n",
              "      <td>...</td>\n",
              "      <td>...</td>\n",
              "      <td>...</td>\n",
              "      <td>...</td>\n",
              "      <td>...</td>\n",
              "    </tr>\n",
              "    <tr>\n",
              "      <th>69995</th>\n",
              "      <td>2</td>\n",
              "      <td>168</td>\n",
              "      <td>76.0</td>\n",
              "      <td>120</td>\n",
              "      <td>80</td>\n",
              "      <td>1</td>\n",
              "      <td>1</td>\n",
              "      <td>1</td>\n",
              "      <td>0</td>\n",
              "      <td>1</td>\n",
              "      <td>26.9</td>\n",
              "      <td>52</td>\n",
              "    </tr>\n",
              "    <tr>\n",
              "      <th>69996</th>\n",
              "      <td>1</td>\n",
              "      <td>158</td>\n",
              "      <td>126.0</td>\n",
              "      <td>140</td>\n",
              "      <td>90</td>\n",
              "      <td>2</td>\n",
              "      <td>2</td>\n",
              "      <td>0</td>\n",
              "      <td>0</td>\n",
              "      <td>1</td>\n",
              "      <td>50.5</td>\n",
              "      <td>61</td>\n",
              "    </tr>\n",
              "    <tr>\n",
              "      <th>69997</th>\n",
              "      <td>2</td>\n",
              "      <td>183</td>\n",
              "      <td>105.0</td>\n",
              "      <td>180</td>\n",
              "      <td>90</td>\n",
              "      <td>3</td>\n",
              "      <td>1</td>\n",
              "      <td>0</td>\n",
              "      <td>1</td>\n",
              "      <td>0</td>\n",
              "      <td>31.4</td>\n",
              "      <td>52</td>\n",
              "    </tr>\n",
              "    <tr>\n",
              "      <th>69998</th>\n",
              "      <td>1</td>\n",
              "      <td>163</td>\n",
              "      <td>72.0</td>\n",
              "      <td>135</td>\n",
              "      <td>80</td>\n",
              "      <td>1</td>\n",
              "      <td>2</td>\n",
              "      <td>0</td>\n",
              "      <td>0</td>\n",
              "      <td>0</td>\n",
              "      <td>27.1</td>\n",
              "      <td>61</td>\n",
              "    </tr>\n",
              "    <tr>\n",
              "      <th>69999</th>\n",
              "      <td>1</td>\n",
              "      <td>170</td>\n",
              "      <td>72.0</td>\n",
              "      <td>120</td>\n",
              "      <td>80</td>\n",
              "      <td>2</td>\n",
              "      <td>1</td>\n",
              "      <td>0</td>\n",
              "      <td>0</td>\n",
              "      <td>1</td>\n",
              "      <td>24.9</td>\n",
              "      <td>56</td>\n",
              "    </tr>\n",
              "  </tbody>\n",
              "</table>\n",
              "<p>70000 rows × 12 columns</p>\n",
              "</div>\n",
              "      <button class=\"colab-df-convert\" onclick=\"convertToInteractive('df-c9815886-c654-4562-a1df-6c59a3c76f2e')\"\n",
              "              title=\"Convert this dataframe to an interactive table.\"\n",
              "              style=\"display:none;\">\n",
              "        \n",
              "  <svg xmlns=\"http://www.w3.org/2000/svg\" height=\"24px\"viewBox=\"0 0 24 24\"\n",
              "       width=\"24px\">\n",
              "    <path d=\"M0 0h24v24H0V0z\" fill=\"none\"/>\n",
              "    <path d=\"M18.56 5.44l.94 2.06.94-2.06 2.06-.94-2.06-.94-.94-2.06-.94 2.06-2.06.94zm-11 1L8.5 8.5l.94-2.06 2.06-.94-2.06-.94L8.5 2.5l-.94 2.06-2.06.94zm10 10l.94 2.06.94-2.06 2.06-.94-2.06-.94-.94-2.06-.94 2.06-2.06.94z\"/><path d=\"M17.41 7.96l-1.37-1.37c-.4-.4-.92-.59-1.43-.59-.52 0-1.04.2-1.43.59L10.3 9.45l-7.72 7.72c-.78.78-.78 2.05 0 2.83L4 21.41c.39.39.9.59 1.41.59.51 0 1.02-.2 1.41-.59l7.78-7.78 2.81-2.81c.8-.78.8-2.07 0-2.86zM5.41 20L4 18.59l7.72-7.72 1.47 1.35L5.41 20z\"/>\n",
              "  </svg>\n",
              "      </button>\n",
              "      \n",
              "  <style>\n",
              "    .colab-df-container {\n",
              "      display:flex;\n",
              "      flex-wrap:wrap;\n",
              "      gap: 12px;\n",
              "    }\n",
              "\n",
              "    .colab-df-convert {\n",
              "      background-color: #E8F0FE;\n",
              "      border: none;\n",
              "      border-radius: 50%;\n",
              "      cursor: pointer;\n",
              "      display: none;\n",
              "      fill: #1967D2;\n",
              "      height: 32px;\n",
              "      padding: 0 0 0 0;\n",
              "      width: 32px;\n",
              "    }\n",
              "\n",
              "    .colab-df-convert:hover {\n",
              "      background-color: #E2EBFA;\n",
              "      box-shadow: 0px 1px 2px rgba(60, 64, 67, 0.3), 0px 1px 3px 1px rgba(60, 64, 67, 0.15);\n",
              "      fill: #174EA6;\n",
              "    }\n",
              "\n",
              "    [theme=dark] .colab-df-convert {\n",
              "      background-color: #3B4455;\n",
              "      fill: #D2E3FC;\n",
              "    }\n",
              "\n",
              "    [theme=dark] .colab-df-convert:hover {\n",
              "      background-color: #434B5C;\n",
              "      box-shadow: 0px 1px 3px 1px rgba(0, 0, 0, 0.15);\n",
              "      filter: drop-shadow(0px 1px 2px rgba(0, 0, 0, 0.3));\n",
              "      fill: #FFFFFF;\n",
              "    }\n",
              "  </style>\n",
              "\n",
              "      <script>\n",
              "        const buttonEl =\n",
              "          document.querySelector('#df-c9815886-c654-4562-a1df-6c59a3c76f2e button.colab-df-convert');\n",
              "        buttonEl.style.display =\n",
              "          google.colab.kernel.accessAllowed ? 'block' : 'none';\n",
              "\n",
              "        async function convertToInteractive(key) {\n",
              "          const element = document.querySelector('#df-c9815886-c654-4562-a1df-6c59a3c76f2e');\n",
              "          const dataTable =\n",
              "            await google.colab.kernel.invokeFunction('convertToInteractive',\n",
              "                                                     [key], {});\n",
              "          if (!dataTable) return;\n",
              "\n",
              "          const docLinkHtml = 'Like what you see? Visit the ' +\n",
              "            '<a target=\"_blank\" href=https://colab.research.google.com/notebooks/data_table.ipynb>data table notebook</a>'\n",
              "            + ' to learn more about interactive tables.';\n",
              "          element.innerHTML = '';\n",
              "          dataTable['output_type'] = 'display_data';\n",
              "          await google.colab.output.renderOutput(dataTable, element);\n",
              "          const docLink = document.createElement('div');\n",
              "          docLink.innerHTML = docLinkHtml;\n",
              "          element.appendChild(docLink);\n",
              "        }\n",
              "      </script>\n",
              "    </div>\n",
              "  </div>\n",
              "  "
            ]
          },
          "metadata": {},
          "execution_count": 143
        }
      ],
      "source": [
        "X"
      ],
      "id": "gaF6bBJ_32q6"
    },
    {
      "cell_type": "code",
      "execution_count": 144,
      "metadata": {
        "id": "FcI20ZLoaPog"
      },
      "outputs": [],
      "source": [
        "X_train, X_test, y_train, y_test = train_test_split(X, y,test_size=0.2,random_state=0)"
      ],
      "id": "FcI20ZLoaPog"
    },
    {
      "cell_type": "code",
      "execution_count": 145,
      "metadata": {
        "colab": {
          "base_uri": "https://localhost:8080/",
          "height": 1000
        },
        "id": "18i11heTaTWT",
        "outputId": "b06501d9-cdfb-4aac-84a8-c2ab259e9780"
      },
      "outputs": [
        {
          "output_type": "stream",
          "name": "stderr",
          "text": [
            "/usr/local/lib/python3.8/dist-packages/sklearn/model_selection/_validation.py:372: FitFailedWarning: \n",
            "25 fits failed out of a total of 50.\n",
            "The score on these train-test partitions for these parameters will be set to nan.\n",
            "If these failures are not expected, you can try to debug them by setting error_score='raise'.\n",
            "\n",
            "Below are more details about the failures:\n",
            "--------------------------------------------------------------------------------\n",
            "10 fits failed with the following error:\n",
            "Traceback (most recent call last):\n",
            "  File \"/usr/local/lib/python3.8/dist-packages/sklearn/model_selection/_validation.py\", line 680, in _fit_and_score\n",
            "    estimator.fit(X_train, y_train, **fit_params)\n",
            "  File \"/usr/local/lib/python3.8/dist-packages/sklearn/linear_model/_logistic.py\", line 1461, in fit\n",
            "    solver = _check_solver(self.solver, self.penalty, self.dual)\n",
            "  File \"/usr/local/lib/python3.8/dist-packages/sklearn/linear_model/_logistic.py\", line 457, in _check_solver\n",
            "    raise ValueError(\n",
            "ValueError: Only 'saga' solver supports elasticnet penalty, got solver=liblinear.\n",
            "\n",
            "--------------------------------------------------------------------------------\n",
            "5 fits failed with the following error:\n",
            "Traceback (most recent call last):\n",
            "  File \"/usr/local/lib/python3.8/dist-packages/sklearn/model_selection/_validation.py\", line 680, in _fit_and_score\n",
            "    estimator.fit(X_train, y_train, **fit_params)\n",
            "  File \"/usr/local/lib/python3.8/dist-packages/sklearn/linear_model/_logistic.py\", line 1471, in fit\n",
            "    raise ValueError(\n",
            "ValueError: l1_ratio must be between 0 and 1; got (l1_ratio=None)\n",
            "\n",
            "--------------------------------------------------------------------------------\n",
            "5 fits failed with the following error:\n",
            "Traceback (most recent call last):\n",
            "  File \"/usr/local/lib/python3.8/dist-packages/sklearn/model_selection/_validation.py\", line 680, in _fit_and_score\n",
            "    estimator.fit(X_train, y_train, **fit_params)\n",
            "  File \"/usr/local/lib/python3.8/dist-packages/sklearn/linear_model/_logistic.py\", line 1461, in fit\n",
            "    solver = _check_solver(self.solver, self.penalty, self.dual)\n",
            "  File \"/usr/local/lib/python3.8/dist-packages/sklearn/linear_model/_logistic.py\", line 447, in _check_solver\n",
            "    raise ValueError(\n",
            "ValueError: Solver newton-cg supports only 'l2' or 'none' penalties, got elasticnet penalty.\n",
            "\n",
            "--------------------------------------------------------------------------------\n",
            "5 fits failed with the following error:\n",
            "Traceback (most recent call last):\n",
            "  File \"/usr/local/lib/python3.8/dist-packages/sklearn/model_selection/_validation.py\", line 680, in _fit_and_score\n",
            "    estimator.fit(X_train, y_train, **fit_params)\n",
            "  File \"/usr/local/lib/python3.8/dist-packages/sklearn/linear_model/_logistic.py\", line 1461, in fit\n",
            "    solver = _check_solver(self.solver, self.penalty, self.dual)\n",
            "  File \"/usr/local/lib/python3.8/dist-packages/sklearn/linear_model/_logistic.py\", line 447, in _check_solver\n",
            "    raise ValueError(\n",
            "ValueError: Solver sag supports only 'l2' or 'none' penalties, got l1 penalty.\n",
            "\n",
            "  warnings.warn(some_fits_failed_message, FitFailedWarning)\n",
            "/usr/local/lib/python3.8/dist-packages/sklearn/model_selection/_search.py:969: UserWarning: One or more of the test scores are non-finite: [       nan        nan 0.64849577 0.67919306        nan 0.67619792\n",
            " 0.65277424        nan        nan 0.67979921]\n",
            "  warnings.warn(\n"
          ]
        },
        {
          "output_type": "stream",
          "name": "stdout",
          "text": [
            "Accuracy en test = 0.7202857142857143\n",
            "Recall en test = 0.6698889049199249\n"
          ]
        },
        {
          "output_type": "display_data",
          "data": {
            "text/plain": [
              "<Figure size 432x288 with 2 Axes>"
            ],
            "image/png": "[encoded data removed]"
          },
          "metadata": {
            "needs_background": "light"
          }
        }
      ],
      "source": [
        "logistic_regression = LogisticRegression()\n",
        "folds=StratifiedKFold(n_splits=5, random_state=12, shuffle=True)\n",
        "params_reg_log = {'C': [1, 10, 100, 1000],\n",
        "                    'penalty': ['l1', 'l2', 'elasticnet'],\n",
        "                     'solver': ['saga','newton-cg', 'lbfgs', 'liblinear', 'sag']}\n",
        "\n",
        "rs_reg_log = RandomizedSearchCV(estimator=logistic_regression, param_distributions=params_reg_log, scoring='recall', cv=folds, n_jobs=4, random_state=12)\n",
        "\n",
        "modelo_produccion = rs_reg_log.fit(X_train, y_train)\n",
        "\n",
        "y_pred_reg_log = rs_reg_log.predict(X_test)\n",
        "\n",
        "# Graficamos la matriz de confusión en train \n",
        "sns.heatmap(confusion_matrix(y_test, y_pred_reg_log), annot=True, fmt='.0f')\n",
        "plt.ylabel('Etiquetas reales')\n",
        "plt.xlabel('Etiquetas predichas');\n",
        "\n",
        "print('Accuracy en test =', accuracy_score(y_test, y_pred_reg_log))\n",
        "print('Recall en test =', recall_score(y_test, y_pred_reg_log))"
      ],
      "id": "18i11heTaTWT"
    },
    {
      "cell_type": "code",
      "source": [
        "print(f1_score(y_test, y_pred_reg_log))"
      ],
      "metadata": {
        "colab": {
          "base_uri": "https://localhost:8080/"
        },
        "id": "lta2pTwN0VJD",
        "outputId": "48e5750d-78b2-407c-f2ba-ea893a0c63e0"
      },
      "id": "lta2pTwN0VJD",
      "execution_count": 146,
      "outputs": [
        {
          "output_type": "stream",
          "name": "stdout",
          "text": [
            "0.703378276018785\n"
          ]
        }
      ]
    },
    {
      "cell_type": "code",
      "source": [
        "confusion = confusion_matrix(y_test, y_pred_reg_log)\n",
        "\n",
        "TP = confusion[1, 1]\n",
        "TN = confusion[0, 0]\n",
        "FP = confusion[0, 1]\n",
        "FN = confusion[1, 0]\n",
        "\n",
        "tasa_de_negativos = FN /(FN + TP)\n",
        "print(tasa_de_negativos)"
      ],
      "metadata": {
        "colab": {
          "base_uri": "https://localhost:8080/"
        },
        "id": "GkYXuSQd0bdL",
        "outputId": "8692b51d-e8d8-46a1-f334-63c9a8601a04"
      },
      "id": "GkYXuSQd0bdL",
      "execution_count": 147,
      "outputs": [
        {
          "output_type": "stream",
          "name": "stdout",
          "text": [
            "0.330111095080075\n"
          ]
        }
      ]
    },
    {
      "cell_type": "code",
      "execution_count": 149,
      "metadata": {
        "id": "C3qt2xmw-d-v"
      },
      "outputs": [],
      "source": [
        "import pickle\n",
        "\n",
        "# Grabamos el modelo en el directorio\n",
        "pkl_filename = \"cardio_model.pkl\"\n",
        "with open(pkl_filename, 'wb') as file:\n",
        "    pickle.dump(modelo_produccion, file)\n",
        "\n",
        "#modelo elegido para producción: regresión logistica sin dummies y sin las variables creadas excepto IMC"
      ],
      "id": "C3qt2xmw-d-v"
    },
    {
      "cell_type": "markdown",
      "metadata": {
        "id": "1v7wUUVOZH14"
      },
      "source": [
        "# Regresión con cambio de Umbral"
      ],
      "id": "1v7wUUVOZH14"
    },
    {
      "cell_type": "code",
      "execution_count": 150,
      "metadata": {
        "colab": {
          "base_uri": "https://localhost:8080/"
        },
        "id": "bda86145",
        "outputId": "0bf20fa0-d945-4771-9d86-deeab1168a23"
      },
      "outputs": [
        {
          "output_type": "execute_result",
          "data": {
            "text/plain": [
              "array([[0.78413968, 0.21586032],\n",
              "       [0.75278471, 0.24721529],\n",
              "       [0.5946712 , 0.4053288 ],\n",
              "       ...,\n",
              "       [0.08455033, 0.91544967],\n",
              "       [0.77598794, 0.22401206],\n",
              "       [0.46647615, 0.53352385]])"
            ]
          },
          "metadata": {},
          "execution_count": 150
        }
      ],
      "source": [
        "y_pred_proba = rs_reg_log.predict_proba(X_test)\n",
        "y_pred_proba #probabilidad de cero y de 1 "
      ],
      "id": "bda86145"
    },
    {
      "cell_type": "code",
      "execution_count": 151,
      "metadata": {
        "colab": {
          "base_uri": "https://localhost:8080/",
          "height": 295
        },
        "id": "e44c0a2b",
        "outputId": "96d98f60-16d7-43b6-ee20-77369c0c665e"
      },
      "outputs": [
        {
          "output_type": "display_data",
          "data": {
            "text/plain": [
              "<Figure size 432x288 with 1 Axes>"
            ],
            "image/png": "[encoded data removed]"
          },
          "metadata": {
            "needs_background": "light"
          }
        }
      ],
      "source": [
        "y_probs_logit_right = y_pred_proba[:,1]\n",
        "\n",
        "# Generamos un histograma de esa columna\n",
        "plt.hist(y_probs_logit_right, bins=15)\n",
        "plt.axvline(x = 0.5, color = 'b', label = 'axvline - full height') \n",
        "plt.xlim(0,1)\n",
        "plt.title('Histograma de probabilidades estimadas')\n",
        "plt.xlabel('Probabilidad')\n",
        "plt.ylabel('Frecuencia')\n",
        "plt.show()"
      ],
      "id": "e44c0a2b"
    },
    {
      "cell_type": "code",
      "execution_count": 152,
      "metadata": {
        "colab": {
          "base_uri": "https://localhost:8080/"
        },
        "id": "r36i7Qk9X0-a",
        "outputId": "82108ec1-e215-4657-d4cd-4b247eecbee4"
      },
      "outputs": [
        {
          "output_type": "execute_result",
          "data": {
            "text/plain": [
              "array([0.21586032, 0.24721529, 0.4053288 , ..., 0.91544967, 0.22401206,\n",
              "       0.53352385])"
            ]
          },
          "metadata": {},
          "execution_count": 152
        }
      ],
      "source": [
        "y_probs_logit_right"
      ],
      "id": "r36i7Qk9X0-a"
    },
    {
      "cell_type": "code",
      "execution_count": 153,
      "metadata": {
        "colab": {
          "base_uri": "https://localhost:8080/",
          "height": 314
        },
        "id": "2dcef4d9",
        "outputId": "7c8e0117-b8e6-4011-f05b-cee0798aee56"
      },
      "outputs": [
        {
          "output_type": "stream",
          "name": "stdout",
          "text": [
            "Accuracy en test = 0.6555\n",
            "Recall en test = 0.8991487519838407\n"
          ]
        },
        {
          "output_type": "display_data",
          "data": {
            "text/plain": [
              "<Figure size 432x288 with 2 Axes>"
            ],
            "image/png": "[encoded data removed]"
          },
          "metadata": {
            "needs_background": "light"
          }
        }
      ],
      "source": [
        "y_pred_logit = (y_probs_logit_right> 0.33).astype(int)\n",
        "\n",
        "# Graficamos la matriz de confusión en train \n",
        "sns.heatmap(confusion_matrix(y_test, y_pred_logit), annot=True, fmt='.0f')\n",
        "plt.ylabel('Etiquetas reales')\n",
        "\n",
        "plt.xlabel('Etiquetas predichas');\n",
        "\n",
        "print('Accuracy en test =', accuracy_score(y_test, y_pred_logit))\n",
        "print('Recall en test =', recall_score(y_test, y_pred_logit))"
      ],
      "id": "2dcef4d9"
    },
    {
      "cell_type": "code",
      "source": [
        "#fn/(fn+vp)\n",
        "confusion = confusion_matrix(y_test, y_pred_logit)\n",
        "\n",
        "TP = confusion[1, 1]\n",
        "TN = confusion[0, 0]\n",
        "FP = confusion[0, 1]\n",
        "FN = confusion[1, 0]\n",
        "\n",
        "tasa_de_negativos = FN /(FN + TP)\n",
        "print(tasa_de_negativos)"
      ],
      "metadata": {
        "id": "NLNWMRFbworE",
        "colab": {
          "base_uri": "https://localhost:8080/"
        },
        "outputId": "19f9561b-909c-417a-fd45-822437aaea1a"
      },
      "id": "NLNWMRFbworE",
      "execution_count": 154,
      "outputs": [
        {
          "output_type": "stream",
          "name": "stdout",
          "text": [
            "0.10085124801615929\n"
          ]
        }
      ]
    },
    {
      "cell_type": "code",
      "source": [
        "print(f1_score(y_test, y_pred_logit))"
      ],
      "metadata": {
        "colab": {
          "base_uri": "https://localhost:8080/"
        },
        "id": "vfHdD3Or0CSp",
        "outputId": "639af21d-e2eb-44a1-f5a3-beac4da58a88"
      },
      "id": "vfHdD3Or0CSp",
      "execution_count": 156,
      "outputs": [
        {
          "output_type": "stream",
          "name": "stdout",
          "text": [
            "0.7210042228264014\n"
          ]
        }
      ]
    },
    {
      "cell_type": "code",
      "execution_count": 157,
      "metadata": {
        "colab": {
          "base_uri": "https://localhost:8080/",
          "height": 295
        },
        "id": "_akKNGx3fjRg",
        "outputId": "8419733c-4517-409a-aa2c-e839f430bcbc"
      },
      "outputs": [
        {
          "output_type": "display_data",
          "data": {
            "text/plain": [
              "<Figure size 432x288 with 1 Axes>"
            ],
            "image/png": "[encoded data removed]"
          },
          "metadata": {
            "needs_background": "light"
          }
        }
      ],
      "source": [
        "\n",
        "# Generamos un histograma de esa columna\n",
        "plt.hist(y_probs_logit_right, bins=15)\n",
        "plt.axvline(x = 0.33, color = 'b', label = 'axvline - full height') \n",
        "plt.xlim(0,1)\n",
        "plt.title('Histograma de probabilidades estimadas')\n",
        "plt.xlabel('Probabilidad')\n",
        "plt.ylabel('Frecuencia')\n",
        "plt.show()"
      ],
      "id": "_akKNGx3fjRg"
    },
    {
      "cell_type": "markdown",
      "metadata": {
        "id": "4947046c"
      },
      "source": [
        "al mover el umbral a 0.42, el modelo tiene mejor rendimiento"
      ],
      "id": "4947046c"
    },
    {
      "cell_type": "markdown",
      "metadata": {
        "id": "1e677af9"
      },
      "source": [
        "# LGBMClassifier"
      ],
      "id": "1e677af9"
    },
    {
      "cell_type": "code",
      "execution_count": 158,
      "metadata": {
        "id": "e5878ec9",
        "colab": {
          "base_uri": "https://localhost:8080/"
        },
        "outputId": "9b7e03e3-07c2-4f4f-a401-fddd24d5ddce"
      },
      "outputs": [
        {
          "output_type": "stream",
          "name": "stdout",
          "text": [
            "Fitting 5 folds for each of 24 candidates, totalling 120 fits\n"
          ]
        },
        {
          "output_type": "execute_result",
          "data": {
            "text/plain": [
              "{'learning_rate': 0.1, 'max_depth': 3, 'n_estimators': 500}"
            ]
          },
          "metadata": {},
          "execution_count": 158
        }
      ],
      "source": [
        "cv = StratifiedKFold(n_splits=5, random_state=41, shuffle=True)\n",
        "model_lgb = lgb.LGBMClassifier()\n",
        "params = {  \n",
        "    \"n_estimators\": [50,100,500],\n",
        "    \"max_depth\": [1,2,3,4], \n",
        "    \"learning_rate\": [0.01, 0.1],\n",
        "}\n",
        "grid_lgb = GridSearchCV(model_lgb, param_grid=params, cv=cv, verbose=1, n_jobs=-1)\n",
        "grid_lgb.fit(X_train,y_train)\n",
        "grid_lgb.best_params_"
      ],
      "id": "e5878ec9"
    },
    {
      "cell_type": "code",
      "execution_count": 159,
      "metadata": {
        "id": "be4410f0",
        "colab": {
          "base_uri": "https://localhost:8080/"
        },
        "outputId": "a232ef81-5785-4d27-cd2c-3b0f71ad9aee"
      },
      "outputs": [
        {
          "output_type": "stream",
          "name": "stdout",
          "text": [
            "Rendimiento de Light GBM:\t0.737 ± 0.004\n"
          ]
        }
      ],
      "source": [
        "def evaluar_rendimiento(modelo, nombre, X, y, cv):\n",
        "    s = cross_val_score(modelo, X, y, cv=cv, n_jobs=-1)\n",
        "    print(\"Rendimiento de {}:\\t{:0.3} ± {:0.3}\".format( \\\n",
        "        nombre, s.mean().round(3), s.std().round(3)))\n",
        "\n",
        "evaluar_rendimiento(grid_lgb.best_estimator_,\"Light GBM\", X_train, y_train, cv)"
      ],
      "id": "be4410f0"
    },
    {
      "cell_type": "code",
      "execution_count": 160,
      "metadata": {
        "id": "5d150f71",
        "colab": {
          "base_uri": "https://localhost:8080/"
        },
        "outputId": "f8fd2843-4aee-4903-9811-1005f7428a71"
      },
      "outputs": [
        {
          "output_type": "stream",
          "name": "stdout",
          "text": [
            "accuracy: 0.7332857142857143\n",
            "classification_report:               precision    recall  f1-score   support\n",
            "\n",
            "           0       0.72      0.77      0.75      7069\n",
            "           1       0.75      0.69      0.72      6931\n",
            "\n",
            "    accuracy                           0.73     14000\n",
            "   macro avg       0.73      0.73      0.73     14000\n",
            "weighted avg       0.73      0.73      0.73     14000\n",
            "\n"
          ]
        }
      ],
      "source": [
        "best_model = grid_lgb.best_estimator_\n",
        "y_pred_lgbm = best_model.predict(X_test)\n",
        "\n",
        "accuracy = accuracy_score(y_test, y_pred_lgbm)  \n",
        "print('accuracy:', accuracy)\n",
        "classification_rep = classification_report(y_test, y_pred_lgbm)\n",
        "print('classification_report:', classification_rep)    "
      ],
      "id": "5d150f71"
    },
    {
      "cell_type": "code",
      "execution_count": 161,
      "metadata": {
        "id": "85b32454",
        "colab": {
          "base_uri": "https://localhost:8080/",
          "height": 300
        },
        "outputId": "340f14a6-9909-461f-9457-65c57e55b349"
      },
      "outputs": [
        {
          "output_type": "stream",
          "name": "stdout",
          "text": [
            "Accuracy en test = 0.7332857142857143\n",
            "Recall en test = 0.692685038234021\n"
          ]
        },
        {
          "output_type": "display_data",
          "data": {
            "text/plain": [
              "<Figure size 432x288 with 2 Axes>"
            ],
            "image/png": "[encoded data removed]"
          },
          "metadata": {
            "needs_background": "light"
          }
        }
      ],
      "source": [
        "sns.heatmap(confusion_matrix(y_test, y_pred_lgbm), annot=True, fmt='.0f')\n",
        "\n",
        "print('Accuracy en test =', accuracy_score(y_test, y_pred_lgbm))\n",
        "print('Recall en test =', recall_score(y_test, y_pred_lgbm))"
      ],
      "id": "85b32454"
    },
    {
      "cell_type": "code",
      "execution_count": 162,
      "metadata": {
        "id": "ac5a4b57",
        "colab": {
          "base_uri": "https://localhost:8080/",
          "height": 295
        },
        "outputId": "8d718f0c-ec30-4115-b7aa-db904fd4c8f7"
      },
      "outputs": [
        {
          "output_type": "display_data",
          "data": {
            "text/plain": [
              "<Figure size 432x288 with 1 Axes>"
            ],
            "image/png": "[encoded data removed]"
          },
          "metadata": {
            "needs_background": "light"
          }
        }
      ],
      "source": [
        "lgb.plot_importance(grid_lgb.best_estimator_, max_num_features=20);"
      ],
      "id": "ac5a4b57"
    },
    {
      "cell_type": "markdown",
      "metadata": {
        "id": "2ca2b19c"
      },
      "source": [
        "# XG Boosting"
      ],
      "id": "2ca2b19c"
    },
    {
      "cell_type": "code",
      "execution_count": 163,
      "metadata": {
        "id": "dfcee211",
        "colab": {
          "base_uri": "https://localhost:8080/"
        },
        "outputId": "0f299ecf-e6e5-469e-8e6c-995091b610c9"
      },
      "outputs": [
        {
          "output_type": "stream",
          "name": "stdout",
          "text": [
            "Fitting 5 folds for each of 24 candidates, totalling 120 fits\n"
          ]
        },
        {
          "output_type": "execute_result",
          "data": {
            "text/plain": [
              "{'learning_rate': 0.1, 'max_depth': 4, 'n_estimators': 500}"
            ]
          },
          "metadata": {},
          "execution_count": 163
        }
      ],
      "source": [
        "model_xg = XGBClassifier(n_jobs=-1, use_label_encoder=False)\n",
        "\n",
        "# Optimizamos los hiperparametros para XG boost con la misma grilla de hiperparametros antes definida para Light GBM, \n",
        "params = {  \n",
        "    \"n_estimators\": [50,100,500],     \n",
        "    \"max_depth\": [1,2,3,4], \n",
        "    \"learning_rate\": [0.01, 0.1], \n",
        "}\n",
        "\n",
        "xgb = GridSearchCV(model_xg, param_grid=params, cv=cv, verbose=1, n_jobs=-1)\n",
        "\n",
        "xgb.fit(X_train,y_train)\n",
        "\n",
        "xgb.best_params_\n"
      ],
      "id": "dfcee211"
    },
    {
      "cell_type": "code",
      "execution_count": 164,
      "metadata": {
        "id": "9f8b6dde",
        "colab": {
          "base_uri": "https://localhost:8080/"
        },
        "outputId": "d53ccd52-f166-4e22-cb1a-d750b8269fbf"
      },
      "outputs": [
        {
          "output_type": "stream",
          "name": "stdout",
          "text": [
            "Rendimiento de XG Boost:\t0.737 ± 0.004\n"
          ]
        }
      ],
      "source": [
        "# Evaluamos el rendimiento del estimador optimo, utilizando cross validation.\n",
        "# También pasando como argumento CV el generador de CV splits creado antes\n",
        "\n",
        "def evaluar_rendimiento(modelo, nombre, X, y, cv):\n",
        "    s = cross_val_score(modelo, X, y, cv=cv, n_jobs=-1)\n",
        "    print(\"Rendimiento de {}:\\t{:0.3} ± {:0.3}\".format( \\\n",
        "        nombre, s.mean().round(3), s.std().round(3)))\n",
        "\n",
        "evaluar_rendimiento(xgb.best_estimator_,\"XG Boost\", X_train, y_train, cv)"
      ],
      "id": "9f8b6dde"
    },
    {
      "cell_type": "code",
      "execution_count": 165,
      "metadata": {
        "id": "bb701851",
        "colab": {
          "base_uri": "https://localhost:8080/",
          "height": 300
        },
        "outputId": "21e7c315-f0b1-4ac8-a8e5-39b55bbc0a09"
      },
      "outputs": [
        {
          "output_type": "stream",
          "name": "stdout",
          "text": [
            "Accuracy en test = 0.7347142857142858\n",
            "Recall en test = 0.6913865243110662\n"
          ]
        },
        {
          "output_type": "display_data",
          "data": {
            "text/plain": [
              "<Figure size 432x288 with 2 Axes>"
            ],
            "image/png": "[encoded data removed]"
          },
          "metadata": {
            "needs_background": "light"
          }
        }
      ],
      "source": [
        "best_model = xgb.best_estimator_\n",
        "\n",
        "\n",
        "\n",
        "y_pred_xgb = best_model.predict(X_test)\n",
        "\n",
        "\n",
        "sns.heatmap(confusion_matrix(y_test, y_pred_xgb), annot=True, fmt='.0f')\n",
        "print('Accuracy en test =', accuracy_score(y_test, y_pred_xgb))\n",
        "print('Recall en test =', recall_score(y_test, y_pred_xgb))\n",
        "\n"
      ],
      "id": "bb701851"
    },
    {
      "cell_type": "code",
      "execution_count": 166,
      "metadata": {
        "id": "70c8e55d",
        "colab": {
          "base_uri": "https://localhost:8080/",
          "height": 295
        },
        "outputId": "caa02654-2352-45c9-ef52-c6b0b34c1169"
      },
      "outputs": [
        {
          "output_type": "display_data",
          "data": {
            "text/plain": [
              "<Figure size 432x288 with 1 Axes>"
            ],
            "image/png": "[encoded data removed]"
          },
          "metadata": {
            "needs_background": "light"
          }
        }
      ],
      "source": [
        "# Features importances\n",
        "from xgboost import plot_importance\n",
        "plot_importance(xgb.best_estimator_, height = 0.8,max_num_features=15);"
      ],
      "id": "70c8e55d"
    },
    {
      "cell_type": "markdown",
      "metadata": {
        "id": "0e301978"
      },
      "source": [
        "# Roc"
      ],
      "id": "0e301978"
    },
    {
      "cell_type": "code",
      "execution_count": 167,
      "metadata": {
        "id": "e4c5c526"
      },
      "outputs": [],
      "source": [
        "X_train, X_test, y_train, y_test = train_test_split(X, y,test_size=0.2,random_state=0)\n",
        "scaler = StandardScaler()\n",
        "X_train = pd.DataFrame(scaler.fit_transform(X_train),columns=X_train.columns)\n",
        "X_test = pd.DataFrame(scaler.transform(X_test),columns=X_test.columns)"
      ],
      "id": "e4c5c526"
    },
    {
      "cell_type": "code",
      "execution_count": 168,
      "metadata": {
        "id": "e839a7c1",
        "colab": {
          "base_uri": "https://localhost:8080/",
          "height": 567
        },
        "outputId": "9d45ff31-c59d-41ae-eda6-0f9912dfb8f8"
      },
      "outputs": [
        {
          "output_type": "display_data",
          "data": {
            "text/plain": [
              "<Figure size 1080x648 with 1 Axes>"
            ],
            "image/png": "[encoded data removed]"
          },
          "metadata": {
            "needs_background": "light"
          }
        }
      ],
      "source": [
        "y_pred_proba_reg_log = rs_reg_log.predict_proba(X_test) #lg2: modelo regresión logística entrenado e instanciado previamente\n",
        "fpr_log,tpr_log,thr_log = roc_curve(y_test, y_pred_proba_reg_log[:,1])\n",
        "\n",
        "y_pred_logit = binarize(y_pred_proba, threshold=0.4) #log con umbral 0.4 modelo regresión logística entrenado e instanciado previamente\n",
        "fpr_lg2,tpr_lg2,thr_lg2 = roc_curve(y_test, y_pred_logit[:,1])\n",
        "\n",
        "y_pred_proba_BoostingL = grid_lgb.predict_proba(X_test) #model: modelo Boosting(LightGBM) entrenado e instanciado previamente\n",
        "fpr_BL,tpr_BL,thr_BL = roc_curve(y_test, y_pred_proba_BoostingL[:,1])\n",
        "\n",
        "y_pred_proba_BoostingX= xgb.predict_proba(X_test) #model: modelo Boosting(XGBoost) entrenado e instanciado previamente\n",
        "fpr_BX,tpr_BX,thr_BX = roc_curve(y_test, y_pred_proba_BoostingX[:,1])\n",
        "\n",
        "\n",
        "\n",
        "plt.figure(figsize = (15,9))\n",
        "plt.axis([0, 1.01, 0, 1.01])\n",
        "plt.xlabel('1 - Specificity')\n",
        "plt.ylabel('TPR / Sensitivity')\n",
        "plt.title('ROC Curve')\n",
        "plt.plot(fpr_log,tpr_log)\n",
        "plt.plot(fpr_lg2,tpr_lg2)\n",
        "plt.plot(fpr_BL,tpr_BL)\n",
        "plt.plot(fpr_BX,tpr_BX)\n",
        "plt.plot(np.arange(0,1, step =0.01), np.arange(0,1, step =0.01),'--r')\n",
        "plt.legend(['Regresión Logística', 'Reg Logística 0.4', \"Boosting(LightGBM)\", \"Boosting(XGBoost)\"])\n",
        "plt.show()\n",
        "\n"
      ],
      "id": "e839a7c1"
    },
    {
      "cell_type": "code",
      "execution_count": 169,
      "metadata": {
        "id": "01397817",
        "colab": {
          "base_uri": "https://localhost:8080/"
        },
        "outputId": "29962566-b50f-4b70-e161-e19fa8a660ad"
      },
      "outputs": [
        {
          "output_type": "stream",
          "name": "stdout",
          "text": [
            "AUC-RL= 0.6448581157038544\n",
            "AUC-RL0.4= 0.6989569231410424\n",
            "AUC-BL= 0.5746322413081808\n",
            "AUC-BX= 0.5619786036761655\n"
          ]
        }
      ],
      "source": [
        "print('AUC-RL=', auc(fpr_log,tpr_log))\n",
        "print('AUC-RL0.4=', auc(fpr_lg2,tpr_lg2))\n",
        "print('AUC-BL=', auc(fpr_BL,tpr_BL))\n",
        "print('AUC-BX=', auc(fpr_BX,tpr_BX))"
      ],
      "id": "01397817"
    },
    {
      "cell_type": "code",
      "execution_count": 169,
      "metadata": {
        "id": "JonzkD_9aZyr"
      },
      "outputs": [],
      "source": [],
      "id": "JonzkD_9aZyr"
    },
    {
      "cell_type": "markdown",
      "metadata": {
        "id": "SeFEPH5qaaV2"
      },
      "source": [
        "# Random Forest"
      ],
      "id": "SeFEPH5qaaV2"
    },
    {
      "cell_type": "code",
      "execution_count": 170,
      "metadata": {
        "id": "8b39d273"
      },
      "outputs": [],
      "source": [
        "clf = RandomForestClassifier( n_estimators=100, max_features='sqrt', n_jobs=-1, oob_score = True, random_state = 42)\n",
        "clf = clf.fit(X_train,y_train)"
      ],
      "id": "8b39d273"
    },
    {
      "cell_type": "code",
      "execution_count": 171,
      "metadata": {
        "id": "8exrl9sgwT8E",
        "colab": {
          "base_uri": "https://localhost:8080/",
          "height": 353
        },
        "outputId": "54fb9016-22ec-4fc0-ff2f-8bf6ecd1b42e"
      },
      "outputs": [
        {
          "output_type": "display_data",
          "data": {
            "text/plain": [
              "<Figure size 3240x720 with 1 Axes>"
            ],
            "image/png": "[encoded data removed]"
          },
          "metadata": {
            "needs_background": "light"
          }
        }
      ],
      "source": [
        "importances = clf.feature_importances_\n",
        "columns = X_train.columns\n",
        "indices = np.argsort(importances)[::-1]\n",
        "\n",
        "plt.figure(figsize = (45,10))\n",
        "sns.barplot(x = columns[indices], y = importances[indices]);"
      ],
      "id": "8exrl9sgwT8E"
    },
    {
      "cell_type": "code",
      "execution_count": 172,
      "metadata": {
        "id": "750c521c",
        "colab": {
          "base_uri": "https://localhost:8080/"
        },
        "outputId": "ed33fc16-751b-4d5e-ae3a-5ff4fe88637b"
      },
      "outputs": [
        {
          "output_type": "stream",
          "name": "stdout",
          "text": [
            "Accuracy train:  0.9806785714285714\n",
            "Accuracy test:  0.7082142857142857\n",
            "Recall train:  0.9740088419851682\n",
            "Recall test:  0.6961477420285673\n"
          ]
        }
      ],
      "source": [
        "y_train_predF = clf.predict(X_train)\n",
        "y_test_predF = clf.predict(X_test)\n",
        "print(\"Accuracy train: \", accuracy_score(y_train, y_train_predF))\n",
        "print(\"Accuracy test: \", accuracy_score(y_test, y_test_predF))\n",
        "print(\"Recall train: \", recall_score(y_train, y_train_predF))\n",
        "print(\"Recall test: \", recall_score(y_test,y_test_predF))"
      ],
      "id": "750c521c"
    },
    {
      "cell_type": "code",
      "execution_count": 173,
      "metadata": {
        "id": "f18401e0",
        "colab": {
          "base_uri": "https://localhost:8080/",
          "height": 282
        },
        "outputId": "197a2039-4d46-4cb2-cf8f-a5eeebec3bc0"
      },
      "outputs": [
        {
          "output_type": "execute_result",
          "data": {
            "text/plain": [
              "<matplotlib.axes._subplots.AxesSubplot at 0x7f6c70165610>"
            ]
          },
          "metadata": {},
          "execution_count": 173
        },
        {
          "output_type": "display_data",
          "data": {
            "text/plain": [
              "<Figure size 432x288 with 2 Axes>"
            ],
            "image/png": "[encoded data removed]"
          },
          "metadata": {
            "needs_background": "light"
          }
        }
      ],
      "source": [
        "sns.heatmap(confusion_matrix(y_test, y_test_predF), annot=True, fmt='.0f')"
      ],
      "id": "f18401e0"
    },
    {
      "cell_type": "code",
      "execution_count": 174,
      "metadata": {
        "id": "aLYxDIijxOSq",
        "colab": {
          "base_uri": "https://localhost:8080/",
          "height": 1000
        },
        "outputId": "e1e544e7-39fe-4d41-d8cf-763335dd9141"
      },
      "outputs": [
        {
          "output_type": "stream",
          "name": "stderr",
          "text": [
            "/usr/local/lib/python3.8/dist-packages/sklearn/model_selection/_validation.py:372: FitFailedWarning: \n",
            "15 fits failed out of a total of 50.\n",
            "The score on these train-test partitions for these parameters will be set to nan.\n",
            "If these failures are not expected, you can try to debug them by setting error_score='raise'.\n",
            "\n",
            "Below are more details about the failures:\n",
            "--------------------------------------------------------------------------------\n",
            "10 fits failed with the following error:\n",
            "Traceback (most recent call last):\n",
            "  File \"/usr/local/lib/python3.8/dist-packages/sklearn/model_selection/_validation.py\", line 680, in _fit_and_score\n",
            "    estimator.fit(X_train, y_train, **fit_params)\n",
            "  File \"/usr/local/lib/python3.8/dist-packages/sklearn/ensemble/_forest.py\", line 450, in fit\n",
            "    trees = Parallel(\n",
            "  File \"/usr/local/lib/python3.8/dist-packages/joblib/parallel.py\", line 1085, in __call__\n",
            "    if self.dispatch_one_batch(iterator):\n",
            "  File \"/usr/local/lib/python3.8/dist-packages/joblib/parallel.py\", line 901, in dispatch_one_batch\n",
            "    self._dispatch(tasks)\n",
            "  File \"/usr/local/lib/python3.8/dist-packages/joblib/parallel.py\", line 819, in _dispatch\n",
            "    job = self._backend.apply_async(batch, callback=cb)\n",
            "  File \"/usr/local/lib/python3.8/dist-packages/joblib/_parallel_backends.py\", line 208, in apply_async\n",
            "    result = ImmediateResult(func)\n",
            "  File \"/usr/local/lib/python3.8/dist-packages/joblib/_parallel_backends.py\", line 597, in __init__\n",
            "    self.results = batch()\n",
            "  File \"/usr/local/lib/python3.8/dist-packages/joblib/parallel.py\", line 288, in __call__\n",
            "    return [func(*args, **kwargs)\n",
            "  File \"/usr/local/lib/python3.8/dist-packages/joblib/parallel.py\", line 288, in <listcomp>\n",
            "    return [func(*args, **kwargs)\n",
            "  File \"/usr/local/lib/python3.8/dist-packages/sklearn/utils/fixes.py\", line 216, in __call__\n",
            "    return self.function(*args, **kwargs)\n",
            "  File \"/usr/local/lib/python3.8/dist-packages/sklearn/ensemble/_forest.py\", line 185, in _parallel_build_trees\n",
            "    tree.fit(X, y, sample_weight=curr_sample_weight, check_input=False)\n",
            "  File \"/usr/local/lib/python3.8/dist-packages/sklearn/tree/_classes.py\", line 937, in fit\n",
            "    super().fit(\n",
            "  File \"/usr/local/lib/python3.8/dist-packages/sklearn/tree/_classes.py\", line 308, in fit\n",
            "    raise ValueError(\"max_features must be in (0, n_features]\")\n",
            "ValueError: max_features must be in (0, n_features]\n",
            "\n",
            "--------------------------------------------------------------------------------\n",
            "5 fits failed with the following error:\n",
            "Traceback (most recent call last):\n",
            "  File \"/usr/local/lib/python3.8/dist-packages/sklearn/model_selection/_validation.py\", line 680, in _fit_and_score\n",
            "    estimator.fit(X_train, y_train, **fit_params)\n",
            "  File \"/usr/local/lib/python3.8/dist-packages/sklearn/ensemble/_forest.py\", line 450, in fit\n",
            "    trees = Parallel(\n",
            "  File \"/usr/local/lib/python3.8/dist-packages/joblib/parallel.py\", line 1098, in __call__\n",
            "    self.retrieve()\n",
            "  File \"/usr/local/lib/python3.8/dist-packages/joblib/parallel.py\", line 975, in retrieve\n",
            "    self._output.extend(job.get(timeout=self.timeout))\n",
            "  File \"/usr/lib/python3.8/multiprocessing/pool.py\", line 771, in get\n",
            "    raise self._value\n",
            "  File \"/usr/lib/python3.8/multiprocessing/pool.py\", line 125, in worker\n",
            "    result = (True, func(*args, **kwds))\n",
            "  File \"/usr/local/lib/python3.8/dist-packages/joblib/_parallel_backends.py\", line 620, in __call__\n",
            "    return self.func(*args, **kwargs)\n",
            "  File \"/usr/local/lib/python3.8/dist-packages/joblib/parallel.py\", line 288, in __call__\n",
            "    return [func(*args, **kwargs)\n",
            "  File \"/usr/local/lib/python3.8/dist-packages/joblib/parallel.py\", line 288, in <listcomp>\n",
            "    return [func(*args, **kwargs)\n",
            "  File \"/usr/local/lib/python3.8/dist-packages/sklearn/utils/fixes.py\", line 216, in __call__\n",
            "    return self.function(*args, **kwargs)\n",
            "  File \"/usr/local/lib/python3.8/dist-packages/sklearn/ensemble/_forest.py\", line 185, in _parallel_build_trees\n",
            "    tree.fit(X, y, sample_weight=curr_sample_weight, check_input=False)\n",
            "  File \"/usr/local/lib/python3.8/dist-packages/sklearn/tree/_classes.py\", line 937, in fit\n",
            "    super().fit(\n",
            "  File \"/usr/local/lib/python3.8/dist-packages/sklearn/tree/_classes.py\", line 308, in fit\n",
            "    raise ValueError(\"max_features must be in (0, n_features]\")\n",
            "ValueError: max_features must be in (0, n_features]\n",
            "\n",
            "  warnings.warn(some_fits_failed_message, FitFailedWarning)\n",
            "/usr/local/lib/python3.8/dist-packages/sklearn/model_selection/_search.py:969: UserWarning: One or more of the test scores are non-finite: [       nan 0.62628383 0.62624818 0.63516153 0.62507166 0.69217034\n",
            "        nan 0.66667832        nan 0.62624818]\n",
            "  warnings.warn(\n"
          ]
        },
        {
          "output_type": "stream",
          "name": "stdout",
          "text": [
            "Accuracy en test = 0.7318571428571429\n",
            "Recall en test = 0.6974462559515221\n"
          ]
        },
        {
          "output_type": "display_data",
          "data": {
            "text/plain": [
              "<Figure size 432x288 with 2 Axes>"
            ],
            "image/png": "[encoded data removed]"
          },
          "metadata": {
            "needs_background": "light"
          }
        }
      ],
      "source": [
        "rf_grid = RandomForestClassifier(random_state = 123)\n",
        "folds=StratifiedKFold(n_splits=5, random_state=12, shuffle=True)\n",
        "params_reg_log = {'n_estimators': [90, 100, 150, 200],\n",
        "                  'n_jobs': [1, -1],\n",
        "                  'max_features': [5, 7, 9, 15, 20, 25],\n",
        "                  'max_depth': [2, 5] }\n",
        "\n",
        "rf_grid_listo = RandomizedSearchCV(estimator=rf_grid, param_distributions=params_reg_log, scoring='recall', cv=folds, n_jobs=4, random_state=12)\n",
        "\n",
        "rf_grid_listo.fit(X_train, y_train)\n",
        "\n",
        "y_pred_rf_grid = rf_grid_listo.predict(X_test)\n",
        "\n",
        "# Graficamos la matriz de confusión en train \n",
        "sns.heatmap(confusion_matrix(y_test, y_pred_rf_grid), annot=True, fmt='.0f')\n",
        "plt.ylabel('Etiquetas reales')\n",
        "plt.xlabel('Etiquetas predichas');\n",
        "\n",
        "print('Accuracy en test =', accuracy_score(y_test, y_pred_rf_grid))\n",
        "print('Recall en test =', recall_score(y_test, y_pred_rf_grid))"
      ],
      "id": "aLYxDIijxOSq"
    },
    {
      "cell_type": "markdown",
      "metadata": {
        "id": "anj7HwC-aggc"
      },
      "source": [
        "# Grabado del modelo"
      ],
      "id": "anj7HwC-aggc"
    },
    {
      "cell_type": "markdown",
      "metadata": {
        "id": "W8LMIP1HC24j"
      },
      "source": [],
      "id": "W8LMIP1HC24j"
    },
    {
      "cell_type": "code",
      "execution_count": 175,
      "metadata": {
        "id": "T6ORu-4MEt4v"
      },
      "outputs": [],
      "source": [
        "# # Grabamos el modelo en el directorio\n",
        "# pkl_filename = \"cardio_model.pkl\"\n",
        "# with open(pkl_filename, 'wb') as file:\n",
        "#     pickle.dump(modelo_produccion, file)"
      ],
      "id": "T6ORu-4MEt4v"
    },
    {
      "cell_type": "markdown",
      "metadata": {
        "id": "Wh846GBval__"
      },
      "source": [
        "# ROC después de RF"
      ],
      "id": "Wh846GBval__"
    },
    {
      "cell_type": "code",
      "execution_count": 176,
      "metadata": {
        "id": "9b7d4ed2",
        "colab": {
          "base_uri": "https://localhost:8080/",
          "height": 567
        },
        "outputId": "e7024e30-d9e7-4b0b-e9e6-af2f3080f6fe"
      },
      "outputs": [
        {
          "output_type": "display_data",
          "data": {
            "text/plain": [
              "<Figure size 1080x648 with 1 Axes>"
            ],
            "image/png": "[encoded data removed]"
          },
          "metadata": {
            "needs_background": "light"
          }
        }
      ],
      "source": [
        "y_pred_proba_reg_log = rs_reg_log.predict_proba(X_test) #lg2: modelo regresión logística entrenado e instanciado previamente\n",
        "fpr_log,tpr_log,thr_log = roc_curve(y_test, y_pred_proba_reg_log[:,1])\n",
        "\n",
        "y_pred_logit = binarize(y_pred_proba, threshold=0.4) #log con umbral 0.4 modelo regresión logística entrenado e instanciado previamente\n",
        "fpr_lg2,tpr_lg2,thr_lg2 = roc_curve(y_test, y_pred_logit[:,1])\n",
        "\n",
        "y_pred_proba_BoostingL = grid_lgb.predict_proba(X_test) #model: modelo Boosting(LightGBM) entrenado e instanciado previamente\n",
        "fpr_BL,tpr_BL,thr_BL = roc_curve(y_test, y_pred_proba_BoostingL[:,1])\n",
        "\n",
        "y_pred_proba_BoostingX= xgb.predict_proba(X_test) #model: modelo Boosting(XGBoost) entrenado e instanciado previamente\n",
        "fpr_BX,tpr_BX,thr_BX = roc_curve(y_test, y_pred_proba_BoostingX[:,1])\n",
        "\n",
        "y_pred_proba_RF = clf.predict_proba(X_test) #gnb: modelo Random Forest entrenado e instanciado previamente\n",
        "fpr_clf,tpr_clf,thr_clf = roc_curve(y_test, y_pred_proba_RF[:,1])\n",
        "\n",
        "y_pred_rf_grid_ok = rf_grid_listo.predict_proba(X_test) #gnb: modelo Random Forest entrenado e instanciado previamente con grid\n",
        "fpr_clfg,tpr_clfg,thr_clfg = roc_curve(y_test, y_pred_rf_grid_ok[:,1])\n",
        "\n",
        "plt.figure(figsize = (15,9))\n",
        "plt.axis([0, 1.01, 0, 1.01])\n",
        "plt.xlabel('1 - Specificity')\n",
        "plt.ylabel('TPR / Sensitivity')\n",
        "plt.title('ROC Curve')\n",
        "plt.plot(fpr_log,tpr_log)\n",
        "plt.plot(fpr_lg2,tpr_lg2)\n",
        "plt.plot(fpr_BL,tpr_BL)\n",
        "plt.plot(fpr_BX,tpr_BX)\n",
        "plt.plot(fpr_clf,tpr_clf)\n",
        "plt.plot(fpr_clfg,tpr_clfg)\n",
        "plt.plot(np.arange(0,1, step =0.01), np.arange(0,1, step =0.01),'--r')\n",
        "plt.legend(['Regresión Logística', 'Reg Logística 0.4', \"Boosting(LightGBM)\", \"Boosting(XGBoost)\", \"RF\", \"RFG\"])\n",
        "plt.show()\n"
      ],
      "id": "9b7d4ed2"
    },
    {
      "cell_type": "code",
      "execution_count": 177,
      "metadata": {
        "id": "99a17bb8",
        "colab": {
          "base_uri": "https://localhost:8080/"
        },
        "outputId": "cdad6e52-f4bf-4a9a-fcd8-ee38e961819c"
      },
      "outputs": [
        {
          "output_type": "stream",
          "name": "stdout",
          "text": [
            "AUC-RL= 0.6448581157038544\n",
            "AUC-RL0.4= 0.6989569231410424\n",
            "AUC-BL= 0.5746322413081808\n",
            "AUC-BX= 0.5619786036761655\n",
            "AUC-RF= 0.7676627620900063\n"
          ]
        }
      ],
      "source": [
        "print('AUC-RL=', auc(fpr_log,tpr_log))\n",
        "print('AUC-RL0.4=', auc(fpr_lg2,tpr_lg2))\n",
        "print('AUC-BL=', auc(fpr_BL,tpr_BL))\n",
        "print('AUC-BX=', auc(fpr_BX,tpr_BX))\n",
        "print('AUC-RF=', auc(fpr_clf,tpr_clf))"
      ],
      "id": "99a17bb8"
    }
  ],
  "metadata": {
    "colab": {
      "provenance": [],
      "toc_visible": true
    },
    "kernelspec": {
      "display_name": "Python 3 (ipykernel)",
      "language": "python",
      "name": "python3"
    },
    "language_info": {
      "codemirror_mode": {
        "name": "ipython",
        "version": 3
      },
      "file_extension": ".py",
      "mimetype": "text/x-python",
      "name": "python",
      "nbconvert_exporter": "python",
      "pygments_lexer": "ipython3",
      "version": "3.8.12"
    }
  },
  "nbformat": 4,
  "nbformat_minor": 5
}